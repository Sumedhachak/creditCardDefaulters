{
  "nbformat": 4,
  "nbformat_minor": 0,
  "metadata": {
    "colab": {
      "name": "pegasus_playground.ipynb",
      "provenance": [],
      "include_colab_link": true
    },
    "kernelspec": {
      "name": "python3",
      "display_name": "Python 3"
    },
    "widgets": {
      "application/vnd.jupyter.widget-state+json": {
        "e0f074f5285140beaec8c18cb7bf4048": {
          "model_module": "@jupyter-widgets/controls",
          "model_name": "HBoxModel",
          "model_module_version": "1.5.0",
          "state": {
            "_dom_classes": [],
            "_model_module": "@jupyter-widgets/controls",
            "_model_module_version": "1.5.0",
            "_model_name": "HBoxModel",
            "_view_count": null,
            "_view_module": "@jupyter-widgets/controls",
            "_view_module_version": "1.5.0",
            "_view_name": "HBoxView",
            "box_style": "",
            "children": [
              "IPY_MODEL_dc6a166f959a4a858a866fec563f8be9",
              "IPY_MODEL_61601874df1d4961862b49470c2d159a",
              "IPY_MODEL_c3da696378a34f2bb3e67634d17e8aac"
            ],
            "layout": "IPY_MODEL_42719bf95d824c04afdf3481cf82dcbf"
          }
        },
        "dc6a166f959a4a858a866fec563f8be9": {
          "model_module": "@jupyter-widgets/controls",
          "model_name": "HTMLModel",
          "model_module_version": "1.5.0",
          "state": {
            "_dom_classes": [],
            "_model_module": "@jupyter-widgets/controls",
            "_model_module_version": "1.5.0",
            "_model_name": "HTMLModel",
            "_view_count": null,
            "_view_module": "@jupyter-widgets/controls",
            "_view_module_version": "1.5.0",
            "_view_name": "HTMLView",
            "description": "",
            "description_tooltip": null,
            "layout": "IPY_MODEL_17bfb98dcb0947f2ad545d223aeed2bb",
            "placeholder": "​",
            "style": "IPY_MODEL_dfccbfbefdc845bfbd959bda2467b1a7",
            "value": "Downloading: 100%"
          }
        },
        "61601874df1d4961862b49470c2d159a": {
          "model_module": "@jupyter-widgets/controls",
          "model_name": "FloatProgressModel",
          "model_module_version": "1.5.0",
          "state": {
            "_dom_classes": [],
            "_model_module": "@jupyter-widgets/controls",
            "_model_module_version": "1.5.0",
            "_model_name": "FloatProgressModel",
            "_view_count": null,
            "_view_module": "@jupyter-widgets/controls",
            "_view_module_version": "1.5.0",
            "_view_name": "ProgressView",
            "bar_style": "success",
            "description": "",
            "description_tooltip": null,
            "layout": "IPY_MODEL_cf57ca41f9c34e68a2bcea7d79bc1305",
            "max": 1912529,
            "min": 0,
            "orientation": "horizontal",
            "style": "IPY_MODEL_40d7ba0551a0458a85cb58c9400ab44d",
            "value": 1912529
          }
        },
        "c3da696378a34f2bb3e67634d17e8aac": {
          "model_module": "@jupyter-widgets/controls",
          "model_name": "HTMLModel",
          "model_module_version": "1.5.0",
          "state": {
            "_dom_classes": [],
            "_model_module": "@jupyter-widgets/controls",
            "_model_module_version": "1.5.0",
            "_model_name": "HTMLModel",
            "_view_count": null,
            "_view_module": "@jupyter-widgets/controls",
            "_view_module_version": "1.5.0",
            "_view_name": "HTMLView",
            "description": "",
            "description_tooltip": null,
            "layout": "IPY_MODEL_5cae49f90d5e4f0995cfb099ee1cca9b",
            "placeholder": "​",
            "style": "IPY_MODEL_8af7250890dd4b5081f875595d78cbd5",
            "value": " 1.82M/1.82M [00:00&lt;00:00, 4.88MB/s]"
          }
        },
        "42719bf95d824c04afdf3481cf82dcbf": {
          "model_module": "@jupyter-widgets/base",
          "model_name": "LayoutModel",
          "model_module_version": "1.2.0",
          "state": {
            "_model_module": "@jupyter-widgets/base",
            "_model_module_version": "1.2.0",
            "_model_name": "LayoutModel",
            "_view_count": null,
            "_view_module": "@jupyter-widgets/base",
            "_view_module_version": "1.2.0",
            "_view_name": "LayoutView",
            "align_content": null,
            "align_items": null,
            "align_self": null,
            "border": null,
            "bottom": null,
            "display": null,
            "flex": null,
            "flex_flow": null,
            "grid_area": null,
            "grid_auto_columns": null,
            "grid_auto_flow": null,
            "grid_auto_rows": null,
            "grid_column": null,
            "grid_gap": null,
            "grid_row": null,
            "grid_template_areas": null,
            "grid_template_columns": null,
            "grid_template_rows": null,
            "height": null,
            "justify_content": null,
            "justify_items": null,
            "left": null,
            "margin": null,
            "max_height": null,
            "max_width": null,
            "min_height": null,
            "min_width": null,
            "object_fit": null,
            "object_position": null,
            "order": null,
            "overflow": null,
            "overflow_x": null,
            "overflow_y": null,
            "padding": null,
            "right": null,
            "top": null,
            "visibility": null,
            "width": null
          }
        },
        "17bfb98dcb0947f2ad545d223aeed2bb": {
          "model_module": "@jupyter-widgets/base",
          "model_name": "LayoutModel",
          "model_module_version": "1.2.0",
          "state": {
            "_model_module": "@jupyter-widgets/base",
            "_model_module_version": "1.2.0",
            "_model_name": "LayoutModel",
            "_view_count": null,
            "_view_module": "@jupyter-widgets/base",
            "_view_module_version": "1.2.0",
            "_view_name": "LayoutView",
            "align_content": null,
            "align_items": null,
            "align_self": null,
            "border": null,
            "bottom": null,
            "display": null,
            "flex": null,
            "flex_flow": null,
            "grid_area": null,
            "grid_auto_columns": null,
            "grid_auto_flow": null,
            "grid_auto_rows": null,
            "grid_column": null,
            "grid_gap": null,
            "grid_row": null,
            "grid_template_areas": null,
            "grid_template_columns": null,
            "grid_template_rows": null,
            "height": null,
            "justify_content": null,
            "justify_items": null,
            "left": null,
            "margin": null,
            "max_height": null,
            "max_width": null,
            "min_height": null,
            "min_width": null,
            "object_fit": null,
            "object_position": null,
            "order": null,
            "overflow": null,
            "overflow_x": null,
            "overflow_y": null,
            "padding": null,
            "right": null,
            "top": null,
            "visibility": null,
            "width": null
          }
        },
        "dfccbfbefdc845bfbd959bda2467b1a7": {
          "model_module": "@jupyter-widgets/controls",
          "model_name": "DescriptionStyleModel",
          "model_module_version": "1.5.0",
          "state": {
            "_model_module": "@jupyter-widgets/controls",
            "_model_module_version": "1.5.0",
            "_model_name": "DescriptionStyleModel",
            "_view_count": null,
            "_view_module": "@jupyter-widgets/base",
            "_view_module_version": "1.2.0",
            "_view_name": "StyleView",
            "description_width": ""
          }
        },
        "cf57ca41f9c34e68a2bcea7d79bc1305": {
          "model_module": "@jupyter-widgets/base",
          "model_name": "LayoutModel",
          "model_module_version": "1.2.0",
          "state": {
            "_model_module": "@jupyter-widgets/base",
            "_model_module_version": "1.2.0",
            "_model_name": "LayoutModel",
            "_view_count": null,
            "_view_module": "@jupyter-widgets/base",
            "_view_module_version": "1.2.0",
            "_view_name": "LayoutView",
            "align_content": null,
            "align_items": null,
            "align_self": null,
            "border": null,
            "bottom": null,
            "display": null,
            "flex": null,
            "flex_flow": null,
            "grid_area": null,
            "grid_auto_columns": null,
            "grid_auto_flow": null,
            "grid_auto_rows": null,
            "grid_column": null,
            "grid_gap": null,
            "grid_row": null,
            "grid_template_areas": null,
            "grid_template_columns": null,
            "grid_template_rows": null,
            "height": null,
            "justify_content": null,
            "justify_items": null,
            "left": null,
            "margin": null,
            "max_height": null,
            "max_width": null,
            "min_height": null,
            "min_width": null,
            "object_fit": null,
            "object_position": null,
            "order": null,
            "overflow": null,
            "overflow_x": null,
            "overflow_y": null,
            "padding": null,
            "right": null,
            "top": null,
            "visibility": null,
            "width": null
          }
        },
        "40d7ba0551a0458a85cb58c9400ab44d": {
          "model_module": "@jupyter-widgets/controls",
          "model_name": "ProgressStyleModel",
          "model_module_version": "1.5.0",
          "state": {
            "_model_module": "@jupyter-widgets/controls",
            "_model_module_version": "1.5.0",
            "_model_name": "ProgressStyleModel",
            "_view_count": null,
            "_view_module": "@jupyter-widgets/base",
            "_view_module_version": "1.2.0",
            "_view_name": "StyleView",
            "bar_color": null,
            "description_width": ""
          }
        },
        "5cae49f90d5e4f0995cfb099ee1cca9b": {
          "model_module": "@jupyter-widgets/base",
          "model_name": "LayoutModel",
          "model_module_version": "1.2.0",
          "state": {
            "_model_module": "@jupyter-widgets/base",
            "_model_module_version": "1.2.0",
            "_model_name": "LayoutModel",
            "_view_count": null,
            "_view_module": "@jupyter-widgets/base",
            "_view_module_version": "1.2.0",
            "_view_name": "LayoutView",
            "align_content": null,
            "align_items": null,
            "align_self": null,
            "border": null,
            "bottom": null,
            "display": null,
            "flex": null,
            "flex_flow": null,
            "grid_area": null,
            "grid_auto_columns": null,
            "grid_auto_flow": null,
            "grid_auto_rows": null,
            "grid_column": null,
            "grid_gap": null,
            "grid_row": null,
            "grid_template_areas": null,
            "grid_template_columns": null,
            "grid_template_rows": null,
            "height": null,
            "justify_content": null,
            "justify_items": null,
            "left": null,
            "margin": null,
            "max_height": null,
            "max_width": null,
            "min_height": null,
            "min_width": null,
            "object_fit": null,
            "object_position": null,
            "order": null,
            "overflow": null,
            "overflow_x": null,
            "overflow_y": null,
            "padding": null,
            "right": null,
            "top": null,
            "visibility": null,
            "width": null
          }
        },
        "8af7250890dd4b5081f875595d78cbd5": {
          "model_module": "@jupyter-widgets/controls",
          "model_name": "DescriptionStyleModel",
          "model_module_version": "1.5.0",
          "state": {
            "_model_module": "@jupyter-widgets/controls",
            "_model_module_version": "1.5.0",
            "_model_name": "DescriptionStyleModel",
            "_view_count": null,
            "_view_module": "@jupyter-widgets/base",
            "_view_module_version": "1.2.0",
            "_view_name": "StyleView",
            "description_width": ""
          }
        },
        "55c5f2c8f0fb416f97598ca4c99f9e80": {
          "model_module": "@jupyter-widgets/controls",
          "model_name": "HBoxModel",
          "model_module_version": "1.5.0",
          "state": {
            "_dom_classes": [],
            "_model_module": "@jupyter-widgets/controls",
            "_model_module_version": "1.5.0",
            "_model_name": "HBoxModel",
            "_view_count": null,
            "_view_module": "@jupyter-widgets/controls",
            "_view_module_version": "1.5.0",
            "_view_name": "HBoxView",
            "box_style": "",
            "children": [
              "IPY_MODEL_9d0f649ddc424ab0a83beecd9bb6c3fc",
              "IPY_MODEL_c06b2b5d191f40a381fc9d2c9a0d9e27",
              "IPY_MODEL_73676cce41434c759646f38c3d285228"
            ],
            "layout": "IPY_MODEL_ff70a5032edb4b4f9e29c2025c4a6678"
          }
        },
        "9d0f649ddc424ab0a83beecd9bb6c3fc": {
          "model_module": "@jupyter-widgets/controls",
          "model_name": "HTMLModel",
          "model_module_version": "1.5.0",
          "state": {
            "_dom_classes": [],
            "_model_module": "@jupyter-widgets/controls",
            "_model_module_version": "1.5.0",
            "_model_name": "HTMLModel",
            "_view_count": null,
            "_view_module": "@jupyter-widgets/controls",
            "_view_module_version": "1.5.0",
            "_view_name": "HTMLView",
            "description": "",
            "description_tooltip": null,
            "layout": "IPY_MODEL_55739a2a6fcf4e7b8ea77e9994801e6e",
            "placeholder": "​",
            "style": "IPY_MODEL_612d1fe2a1d847ae80b3da57029929c3",
            "value": "Downloading: 100%"
          }
        },
        "c06b2b5d191f40a381fc9d2c9a0d9e27": {
          "model_module": "@jupyter-widgets/controls",
          "model_name": "FloatProgressModel",
          "model_module_version": "1.5.0",
          "state": {
            "_dom_classes": [],
            "_model_module": "@jupyter-widgets/controls",
            "_model_module_version": "1.5.0",
            "_model_name": "FloatProgressModel",
            "_view_count": null,
            "_view_module": "@jupyter-widgets/controls",
            "_view_module_version": "1.5.0",
            "_view_name": "ProgressView",
            "bar_style": "success",
            "description": "",
            "description_tooltip": null,
            "layout": "IPY_MODEL_083a840be85b4c20b80d63ac88523096",
            "max": 65,
            "min": 0,
            "orientation": "horizontal",
            "style": "IPY_MODEL_368ace09a22641869742b46386c111d8",
            "value": 65
          }
        },
        "73676cce41434c759646f38c3d285228": {
          "model_module": "@jupyter-widgets/controls",
          "model_name": "HTMLModel",
          "model_module_version": "1.5.0",
          "state": {
            "_dom_classes": [],
            "_model_module": "@jupyter-widgets/controls",
            "_model_module_version": "1.5.0",
            "_model_name": "HTMLModel",
            "_view_count": null,
            "_view_module": "@jupyter-widgets/controls",
            "_view_module_version": "1.5.0",
            "_view_name": "HTMLView",
            "description": "",
            "description_tooltip": null,
            "layout": "IPY_MODEL_0771a134bd4746189e848d367118ddf2",
            "placeholder": "​",
            "style": "IPY_MODEL_076b4aab33764aa2ac2a1f58a474eaf6",
            "value": " 65.0/65.0 [00:00&lt;00:00, 1.79kB/s]"
          }
        },
        "ff70a5032edb4b4f9e29c2025c4a6678": {
          "model_module": "@jupyter-widgets/base",
          "model_name": "LayoutModel",
          "model_module_version": "1.2.0",
          "state": {
            "_model_module": "@jupyter-widgets/base",
            "_model_module_version": "1.2.0",
            "_model_name": "LayoutModel",
            "_view_count": null,
            "_view_module": "@jupyter-widgets/base",
            "_view_module_version": "1.2.0",
            "_view_name": "LayoutView",
            "align_content": null,
            "align_items": null,
            "align_self": null,
            "border": null,
            "bottom": null,
            "display": null,
            "flex": null,
            "flex_flow": null,
            "grid_area": null,
            "grid_auto_columns": null,
            "grid_auto_flow": null,
            "grid_auto_rows": null,
            "grid_column": null,
            "grid_gap": null,
            "grid_row": null,
            "grid_template_areas": null,
            "grid_template_columns": null,
            "grid_template_rows": null,
            "height": null,
            "justify_content": null,
            "justify_items": null,
            "left": null,
            "margin": null,
            "max_height": null,
            "max_width": null,
            "min_height": null,
            "min_width": null,
            "object_fit": null,
            "object_position": null,
            "order": null,
            "overflow": null,
            "overflow_x": null,
            "overflow_y": null,
            "padding": null,
            "right": null,
            "top": null,
            "visibility": null,
            "width": null
          }
        },
        "55739a2a6fcf4e7b8ea77e9994801e6e": {
          "model_module": "@jupyter-widgets/base",
          "model_name": "LayoutModel",
          "model_module_version": "1.2.0",
          "state": {
            "_model_module": "@jupyter-widgets/base",
            "_model_module_version": "1.2.0",
            "_model_name": "LayoutModel",
            "_view_count": null,
            "_view_module": "@jupyter-widgets/base",
            "_view_module_version": "1.2.0",
            "_view_name": "LayoutView",
            "align_content": null,
            "align_items": null,
            "align_self": null,
            "border": null,
            "bottom": null,
            "display": null,
            "flex": null,
            "flex_flow": null,
            "grid_area": null,
            "grid_auto_columns": null,
            "grid_auto_flow": null,
            "grid_auto_rows": null,
            "grid_column": null,
            "grid_gap": null,
            "grid_row": null,
            "grid_template_areas": null,
            "grid_template_columns": null,
            "grid_template_rows": null,
            "height": null,
            "justify_content": null,
            "justify_items": null,
            "left": null,
            "margin": null,
            "max_height": null,
            "max_width": null,
            "min_height": null,
            "min_width": null,
            "object_fit": null,
            "object_position": null,
            "order": null,
            "overflow": null,
            "overflow_x": null,
            "overflow_y": null,
            "padding": null,
            "right": null,
            "top": null,
            "visibility": null,
            "width": null
          }
        },
        "612d1fe2a1d847ae80b3da57029929c3": {
          "model_module": "@jupyter-widgets/controls",
          "model_name": "DescriptionStyleModel",
          "model_module_version": "1.5.0",
          "state": {
            "_model_module": "@jupyter-widgets/controls",
            "_model_module_version": "1.5.0",
            "_model_name": "DescriptionStyleModel",
            "_view_count": null,
            "_view_module": "@jupyter-widgets/base",
            "_view_module_version": "1.2.0",
            "_view_name": "StyleView",
            "description_width": ""
          }
        },
        "083a840be85b4c20b80d63ac88523096": {
          "model_module": "@jupyter-widgets/base",
          "model_name": "LayoutModel",
          "model_module_version": "1.2.0",
          "state": {
            "_model_module": "@jupyter-widgets/base",
            "_model_module_version": "1.2.0",
            "_model_name": "LayoutModel",
            "_view_count": null,
            "_view_module": "@jupyter-widgets/base",
            "_view_module_version": "1.2.0",
            "_view_name": "LayoutView",
            "align_content": null,
            "align_items": null,
            "align_self": null,
            "border": null,
            "bottom": null,
            "display": null,
            "flex": null,
            "flex_flow": null,
            "grid_area": null,
            "grid_auto_columns": null,
            "grid_auto_flow": null,
            "grid_auto_rows": null,
            "grid_column": null,
            "grid_gap": null,
            "grid_row": null,
            "grid_template_areas": null,
            "grid_template_columns": null,
            "grid_template_rows": null,
            "height": null,
            "justify_content": null,
            "justify_items": null,
            "left": null,
            "margin": null,
            "max_height": null,
            "max_width": null,
            "min_height": null,
            "min_width": null,
            "object_fit": null,
            "object_position": null,
            "order": null,
            "overflow": null,
            "overflow_x": null,
            "overflow_y": null,
            "padding": null,
            "right": null,
            "top": null,
            "visibility": null,
            "width": null
          }
        },
        "368ace09a22641869742b46386c111d8": {
          "model_module": "@jupyter-widgets/controls",
          "model_name": "ProgressStyleModel",
          "model_module_version": "1.5.0",
          "state": {
            "_model_module": "@jupyter-widgets/controls",
            "_model_module_version": "1.5.0",
            "_model_name": "ProgressStyleModel",
            "_view_count": null,
            "_view_module": "@jupyter-widgets/base",
            "_view_module_version": "1.2.0",
            "_view_name": "StyleView",
            "bar_color": null,
            "description_width": ""
          }
        },
        "0771a134bd4746189e848d367118ddf2": {
          "model_module": "@jupyter-widgets/base",
          "model_name": "LayoutModel",
          "model_module_version": "1.2.0",
          "state": {
            "_model_module": "@jupyter-widgets/base",
            "_model_module_version": "1.2.0",
            "_model_name": "LayoutModel",
            "_view_count": null,
            "_view_module": "@jupyter-widgets/base",
            "_view_module_version": "1.2.0",
            "_view_name": "LayoutView",
            "align_content": null,
            "align_items": null,
            "align_self": null,
            "border": null,
            "bottom": null,
            "display": null,
            "flex": null,
            "flex_flow": null,
            "grid_area": null,
            "grid_auto_columns": null,
            "grid_auto_flow": null,
            "grid_auto_rows": null,
            "grid_column": null,
            "grid_gap": null,
            "grid_row": null,
            "grid_template_areas": null,
            "grid_template_columns": null,
            "grid_template_rows": null,
            "height": null,
            "justify_content": null,
            "justify_items": null,
            "left": null,
            "margin": null,
            "max_height": null,
            "max_width": null,
            "min_height": null,
            "min_width": null,
            "object_fit": null,
            "object_position": null,
            "order": null,
            "overflow": null,
            "overflow_x": null,
            "overflow_y": null,
            "padding": null,
            "right": null,
            "top": null,
            "visibility": null,
            "width": null
          }
        },
        "076b4aab33764aa2ac2a1f58a474eaf6": {
          "model_module": "@jupyter-widgets/controls",
          "model_name": "DescriptionStyleModel",
          "model_module_version": "1.5.0",
          "state": {
            "_model_module": "@jupyter-widgets/controls",
            "_model_module_version": "1.5.0",
            "_model_name": "DescriptionStyleModel",
            "_view_count": null,
            "_view_module": "@jupyter-widgets/base",
            "_view_module_version": "1.2.0",
            "_view_name": "StyleView",
            "description_width": ""
          }
        },
        "78616bfe9d6542beb4c267a2dd6b50a5": {
          "model_module": "@jupyter-widgets/controls",
          "model_name": "HBoxModel",
          "model_module_version": "1.5.0",
          "state": {
            "_dom_classes": [],
            "_model_module": "@jupyter-widgets/controls",
            "_model_module_version": "1.5.0",
            "_model_name": "HBoxModel",
            "_view_count": null,
            "_view_module": "@jupyter-widgets/controls",
            "_view_module_version": "1.5.0",
            "_view_name": "HBoxView",
            "box_style": "",
            "children": [
              "IPY_MODEL_e962d126ec424c60b0003dabd778c26c",
              "IPY_MODEL_3afc9648f8ce44dcabf8b620213b206d",
              "IPY_MODEL_771569d2274647ecb6b55b214c30002d"
            ],
            "layout": "IPY_MODEL_0d7db2e9624241239e7cae5160612e2d"
          }
        },
        "e962d126ec424c60b0003dabd778c26c": {
          "model_module": "@jupyter-widgets/controls",
          "model_name": "HTMLModel",
          "model_module_version": "1.5.0",
          "state": {
            "_dom_classes": [],
            "_model_module": "@jupyter-widgets/controls",
            "_model_module_version": "1.5.0",
            "_model_name": "HTMLModel",
            "_view_count": null,
            "_view_module": "@jupyter-widgets/controls",
            "_view_module_version": "1.5.0",
            "_view_name": "HTMLView",
            "description": "",
            "description_tooltip": null,
            "layout": "IPY_MODEL_6673cfb149ad4f74a9be796720c706fe",
            "placeholder": "​",
            "style": "IPY_MODEL_96d6aed0f869435a8542df0bbfd949f8",
            "value": "Downloading: 100%"
          }
        },
        "3afc9648f8ce44dcabf8b620213b206d": {
          "model_module": "@jupyter-widgets/controls",
          "model_name": "FloatProgressModel",
          "model_module_version": "1.5.0",
          "state": {
            "_dom_classes": [],
            "_model_module": "@jupyter-widgets/controls",
            "_model_module_version": "1.5.0",
            "_model_name": "FloatProgressModel",
            "_view_count": null,
            "_view_module": "@jupyter-widgets/controls",
            "_view_module_version": "1.5.0",
            "_view_name": "ProgressView",
            "bar_style": "success",
            "description": "",
            "description_tooltip": null,
            "layout": "IPY_MODEL_bc2c90c1313f46769c7fe90a2ec18897",
            "max": 87,
            "min": 0,
            "orientation": "horizontal",
            "style": "IPY_MODEL_8c36a67c96b44d54b2ab4996afbaadfe",
            "value": 87
          }
        },
        "771569d2274647ecb6b55b214c30002d": {
          "model_module": "@jupyter-widgets/controls",
          "model_name": "HTMLModel",
          "model_module_version": "1.5.0",
          "state": {
            "_dom_classes": [],
            "_model_module": "@jupyter-widgets/controls",
            "_model_module_version": "1.5.0",
            "_model_name": "HTMLModel",
            "_view_count": null,
            "_view_module": "@jupyter-widgets/controls",
            "_view_module_version": "1.5.0",
            "_view_name": "HTMLView",
            "description": "",
            "description_tooltip": null,
            "layout": "IPY_MODEL_2f96c7d585984dcd9cdcb97eb19f5139",
            "placeholder": "​",
            "style": "IPY_MODEL_0abb091f653b4d8ca10eb5e576f23333",
            "value": " 87.0/87.0 [00:00&lt;00:00, 1.76kB/s]"
          }
        },
        "0d7db2e9624241239e7cae5160612e2d": {
          "model_module": "@jupyter-widgets/base",
          "model_name": "LayoutModel",
          "model_module_version": "1.2.0",
          "state": {
            "_model_module": "@jupyter-widgets/base",
            "_model_module_version": "1.2.0",
            "_model_name": "LayoutModel",
            "_view_count": null,
            "_view_module": "@jupyter-widgets/base",
            "_view_module_version": "1.2.0",
            "_view_name": "LayoutView",
            "align_content": null,
            "align_items": null,
            "align_self": null,
            "border": null,
            "bottom": null,
            "display": null,
            "flex": null,
            "flex_flow": null,
            "grid_area": null,
            "grid_auto_columns": null,
            "grid_auto_flow": null,
            "grid_auto_rows": null,
            "grid_column": null,
            "grid_gap": null,
            "grid_row": null,
            "grid_template_areas": null,
            "grid_template_columns": null,
            "grid_template_rows": null,
            "height": null,
            "justify_content": null,
            "justify_items": null,
            "left": null,
            "margin": null,
            "max_height": null,
            "max_width": null,
            "min_height": null,
            "min_width": null,
            "object_fit": null,
            "object_position": null,
            "order": null,
            "overflow": null,
            "overflow_x": null,
            "overflow_y": null,
            "padding": null,
            "right": null,
            "top": null,
            "visibility": null,
            "width": null
          }
        },
        "6673cfb149ad4f74a9be796720c706fe": {
          "model_module": "@jupyter-widgets/base",
          "model_name": "LayoutModel",
          "model_module_version": "1.2.0",
          "state": {
            "_model_module": "@jupyter-widgets/base",
            "_model_module_version": "1.2.0",
            "_model_name": "LayoutModel",
            "_view_count": null,
            "_view_module": "@jupyter-widgets/base",
            "_view_module_version": "1.2.0",
            "_view_name": "LayoutView",
            "align_content": null,
            "align_items": null,
            "align_self": null,
            "border": null,
            "bottom": null,
            "display": null,
            "flex": null,
            "flex_flow": null,
            "grid_area": null,
            "grid_auto_columns": null,
            "grid_auto_flow": null,
            "grid_auto_rows": null,
            "grid_column": null,
            "grid_gap": null,
            "grid_row": null,
            "grid_template_areas": null,
            "grid_template_columns": null,
            "grid_template_rows": null,
            "height": null,
            "justify_content": null,
            "justify_items": null,
            "left": null,
            "margin": null,
            "max_height": null,
            "max_width": null,
            "min_height": null,
            "min_width": null,
            "object_fit": null,
            "object_position": null,
            "order": null,
            "overflow": null,
            "overflow_x": null,
            "overflow_y": null,
            "padding": null,
            "right": null,
            "top": null,
            "visibility": null,
            "width": null
          }
        },
        "96d6aed0f869435a8542df0bbfd949f8": {
          "model_module": "@jupyter-widgets/controls",
          "model_name": "DescriptionStyleModel",
          "model_module_version": "1.5.0",
          "state": {
            "_model_module": "@jupyter-widgets/controls",
            "_model_module_version": "1.5.0",
            "_model_name": "DescriptionStyleModel",
            "_view_count": null,
            "_view_module": "@jupyter-widgets/base",
            "_view_module_version": "1.2.0",
            "_view_name": "StyleView",
            "description_width": ""
          }
        },
        "bc2c90c1313f46769c7fe90a2ec18897": {
          "model_module": "@jupyter-widgets/base",
          "model_name": "LayoutModel",
          "model_module_version": "1.2.0",
          "state": {
            "_model_module": "@jupyter-widgets/base",
            "_model_module_version": "1.2.0",
            "_model_name": "LayoutModel",
            "_view_count": null,
            "_view_module": "@jupyter-widgets/base",
            "_view_module_version": "1.2.0",
            "_view_name": "LayoutView",
            "align_content": null,
            "align_items": null,
            "align_self": null,
            "border": null,
            "bottom": null,
            "display": null,
            "flex": null,
            "flex_flow": null,
            "grid_area": null,
            "grid_auto_columns": null,
            "grid_auto_flow": null,
            "grid_auto_rows": null,
            "grid_column": null,
            "grid_gap": null,
            "grid_row": null,
            "grid_template_areas": null,
            "grid_template_columns": null,
            "grid_template_rows": null,
            "height": null,
            "justify_content": null,
            "justify_items": null,
            "left": null,
            "margin": null,
            "max_height": null,
            "max_width": null,
            "min_height": null,
            "min_width": null,
            "object_fit": null,
            "object_position": null,
            "order": null,
            "overflow": null,
            "overflow_x": null,
            "overflow_y": null,
            "padding": null,
            "right": null,
            "top": null,
            "visibility": null,
            "width": null
          }
        },
        "8c36a67c96b44d54b2ab4996afbaadfe": {
          "model_module": "@jupyter-widgets/controls",
          "model_name": "ProgressStyleModel",
          "model_module_version": "1.5.0",
          "state": {
            "_model_module": "@jupyter-widgets/controls",
            "_model_module_version": "1.5.0",
            "_model_name": "ProgressStyleModel",
            "_view_count": null,
            "_view_module": "@jupyter-widgets/base",
            "_view_module_version": "1.2.0",
            "_view_name": "StyleView",
            "bar_color": null,
            "description_width": ""
          }
        },
        "2f96c7d585984dcd9cdcb97eb19f5139": {
          "model_module": "@jupyter-widgets/base",
          "model_name": "LayoutModel",
          "model_module_version": "1.2.0",
          "state": {
            "_model_module": "@jupyter-widgets/base",
            "_model_module_version": "1.2.0",
            "_model_name": "LayoutModel",
            "_view_count": null,
            "_view_module": "@jupyter-widgets/base",
            "_view_module_version": "1.2.0",
            "_view_name": "LayoutView",
            "align_content": null,
            "align_items": null,
            "align_self": null,
            "border": null,
            "bottom": null,
            "display": null,
            "flex": null,
            "flex_flow": null,
            "grid_area": null,
            "grid_auto_columns": null,
            "grid_auto_flow": null,
            "grid_auto_rows": null,
            "grid_column": null,
            "grid_gap": null,
            "grid_row": null,
            "grid_template_areas": null,
            "grid_template_columns": null,
            "grid_template_rows": null,
            "height": null,
            "justify_content": null,
            "justify_items": null,
            "left": null,
            "margin": null,
            "max_height": null,
            "max_width": null,
            "min_height": null,
            "min_width": null,
            "object_fit": null,
            "object_position": null,
            "order": null,
            "overflow": null,
            "overflow_x": null,
            "overflow_y": null,
            "padding": null,
            "right": null,
            "top": null,
            "visibility": null,
            "width": null
          }
        },
        "0abb091f653b4d8ca10eb5e576f23333": {
          "model_module": "@jupyter-widgets/controls",
          "model_name": "DescriptionStyleModel",
          "model_module_version": "1.5.0",
          "state": {
            "_model_module": "@jupyter-widgets/controls",
            "_model_module_version": "1.5.0",
            "_model_name": "DescriptionStyleModel",
            "_view_count": null,
            "_view_module": "@jupyter-widgets/base",
            "_view_module_version": "1.2.0",
            "_view_name": "StyleView",
            "description_width": ""
          }
        },
        "059264a7631743c49c5ff374b420b22e": {
          "model_module": "@jupyter-widgets/controls",
          "model_name": "HBoxModel",
          "model_module_version": "1.5.0",
          "state": {
            "_dom_classes": [],
            "_model_module": "@jupyter-widgets/controls",
            "_model_module_version": "1.5.0",
            "_model_name": "HBoxModel",
            "_view_count": null,
            "_view_module": "@jupyter-widgets/controls",
            "_view_module_version": "1.5.0",
            "_view_name": "HBoxView",
            "box_style": "",
            "children": [
              "IPY_MODEL_46df1344896147409e741f2043b117ea",
              "IPY_MODEL_1c1496a42d5748f09b8c42a13cc3b1af",
              "IPY_MODEL_6d28f958546d4b20aafc90e53d0320fb"
            ],
            "layout": "IPY_MODEL_61e60d5c99b64f148d559e9373762759"
          }
        },
        "46df1344896147409e741f2043b117ea": {
          "model_module": "@jupyter-widgets/controls",
          "model_name": "HTMLModel",
          "model_module_version": "1.5.0",
          "state": {
            "_dom_classes": [],
            "_model_module": "@jupyter-widgets/controls",
            "_model_module_version": "1.5.0",
            "_model_name": "HTMLModel",
            "_view_count": null,
            "_view_module": "@jupyter-widgets/controls",
            "_view_module_version": "1.5.0",
            "_view_name": "HTMLView",
            "description": "",
            "description_tooltip": null,
            "layout": "IPY_MODEL_fa58454db39c417e8a4f8493c5520480",
            "placeholder": "​",
            "style": "IPY_MODEL_42b522072e264f81be773857f6ca464c",
            "value": "Downloading: 100%"
          }
        },
        "1c1496a42d5748f09b8c42a13cc3b1af": {
          "model_module": "@jupyter-widgets/controls",
          "model_name": "FloatProgressModel",
          "model_module_version": "1.5.0",
          "state": {
            "_dom_classes": [],
            "_model_module": "@jupyter-widgets/controls",
            "_model_module_version": "1.5.0",
            "_model_name": "FloatProgressModel",
            "_view_count": null,
            "_view_module": "@jupyter-widgets/controls",
            "_view_module_version": "1.5.0",
            "_view_name": "ProgressView",
            "bar_style": "success",
            "description": "",
            "description_tooltip": null,
            "layout": "IPY_MODEL_9e2377756e764e739cc1136a9727f17d",
            "max": 1392,
            "min": 0,
            "orientation": "horizontal",
            "style": "IPY_MODEL_d21056e745224ee38575ad10e21dd6d8",
            "value": 1392
          }
        },
        "6d28f958546d4b20aafc90e53d0320fb": {
          "model_module": "@jupyter-widgets/controls",
          "model_name": "HTMLModel",
          "model_module_version": "1.5.0",
          "state": {
            "_dom_classes": [],
            "_model_module": "@jupyter-widgets/controls",
            "_model_module_version": "1.5.0",
            "_model_name": "HTMLModel",
            "_view_count": null,
            "_view_module": "@jupyter-widgets/controls",
            "_view_module_version": "1.5.0",
            "_view_name": "HTMLView",
            "description": "",
            "description_tooltip": null,
            "layout": "IPY_MODEL_130e778184ab4e649e2dfd2712918f6e",
            "placeholder": "​",
            "style": "IPY_MODEL_1515bd12f2a844d1b456f1259b556e78",
            "value": " 1.36k/1.36k [00:00&lt;00:00, 36.3kB/s]"
          }
        },
        "61e60d5c99b64f148d559e9373762759": {
          "model_module": "@jupyter-widgets/base",
          "model_name": "LayoutModel",
          "model_module_version": "1.2.0",
          "state": {
            "_model_module": "@jupyter-widgets/base",
            "_model_module_version": "1.2.0",
            "_model_name": "LayoutModel",
            "_view_count": null,
            "_view_module": "@jupyter-widgets/base",
            "_view_module_version": "1.2.0",
            "_view_name": "LayoutView",
            "align_content": null,
            "align_items": null,
            "align_self": null,
            "border": null,
            "bottom": null,
            "display": null,
            "flex": null,
            "flex_flow": null,
            "grid_area": null,
            "grid_auto_columns": null,
            "grid_auto_flow": null,
            "grid_auto_rows": null,
            "grid_column": null,
            "grid_gap": null,
            "grid_row": null,
            "grid_template_areas": null,
            "grid_template_columns": null,
            "grid_template_rows": null,
            "height": null,
            "justify_content": null,
            "justify_items": null,
            "left": null,
            "margin": null,
            "max_height": null,
            "max_width": null,
            "min_height": null,
            "min_width": null,
            "object_fit": null,
            "object_position": null,
            "order": null,
            "overflow": null,
            "overflow_x": null,
            "overflow_y": null,
            "padding": null,
            "right": null,
            "top": null,
            "visibility": null,
            "width": null
          }
        },
        "fa58454db39c417e8a4f8493c5520480": {
          "model_module": "@jupyter-widgets/base",
          "model_name": "LayoutModel",
          "model_module_version": "1.2.0",
          "state": {
            "_model_module": "@jupyter-widgets/base",
            "_model_module_version": "1.2.0",
            "_model_name": "LayoutModel",
            "_view_count": null,
            "_view_module": "@jupyter-widgets/base",
            "_view_module_version": "1.2.0",
            "_view_name": "LayoutView",
            "align_content": null,
            "align_items": null,
            "align_self": null,
            "border": null,
            "bottom": null,
            "display": null,
            "flex": null,
            "flex_flow": null,
            "grid_area": null,
            "grid_auto_columns": null,
            "grid_auto_flow": null,
            "grid_auto_rows": null,
            "grid_column": null,
            "grid_gap": null,
            "grid_row": null,
            "grid_template_areas": null,
            "grid_template_columns": null,
            "grid_template_rows": null,
            "height": null,
            "justify_content": null,
            "justify_items": null,
            "left": null,
            "margin": null,
            "max_height": null,
            "max_width": null,
            "min_height": null,
            "min_width": null,
            "object_fit": null,
            "object_position": null,
            "order": null,
            "overflow": null,
            "overflow_x": null,
            "overflow_y": null,
            "padding": null,
            "right": null,
            "top": null,
            "visibility": null,
            "width": null
          }
        },
        "42b522072e264f81be773857f6ca464c": {
          "model_module": "@jupyter-widgets/controls",
          "model_name": "DescriptionStyleModel",
          "model_module_version": "1.5.0",
          "state": {
            "_model_module": "@jupyter-widgets/controls",
            "_model_module_version": "1.5.0",
            "_model_name": "DescriptionStyleModel",
            "_view_count": null,
            "_view_module": "@jupyter-widgets/base",
            "_view_module_version": "1.2.0",
            "_view_name": "StyleView",
            "description_width": ""
          }
        },
        "9e2377756e764e739cc1136a9727f17d": {
          "model_module": "@jupyter-widgets/base",
          "model_name": "LayoutModel",
          "model_module_version": "1.2.0",
          "state": {
            "_model_module": "@jupyter-widgets/base",
            "_model_module_version": "1.2.0",
            "_model_name": "LayoutModel",
            "_view_count": null,
            "_view_module": "@jupyter-widgets/base",
            "_view_module_version": "1.2.0",
            "_view_name": "LayoutView",
            "align_content": null,
            "align_items": null,
            "align_self": null,
            "border": null,
            "bottom": null,
            "display": null,
            "flex": null,
            "flex_flow": null,
            "grid_area": null,
            "grid_auto_columns": null,
            "grid_auto_flow": null,
            "grid_auto_rows": null,
            "grid_column": null,
            "grid_gap": null,
            "grid_row": null,
            "grid_template_areas": null,
            "grid_template_columns": null,
            "grid_template_rows": null,
            "height": null,
            "justify_content": null,
            "justify_items": null,
            "left": null,
            "margin": null,
            "max_height": null,
            "max_width": null,
            "min_height": null,
            "min_width": null,
            "object_fit": null,
            "object_position": null,
            "order": null,
            "overflow": null,
            "overflow_x": null,
            "overflow_y": null,
            "padding": null,
            "right": null,
            "top": null,
            "visibility": null,
            "width": null
          }
        },
        "d21056e745224ee38575ad10e21dd6d8": {
          "model_module": "@jupyter-widgets/controls",
          "model_name": "ProgressStyleModel",
          "model_module_version": "1.5.0",
          "state": {
            "_model_module": "@jupyter-widgets/controls",
            "_model_module_version": "1.5.0",
            "_model_name": "ProgressStyleModel",
            "_view_count": null,
            "_view_module": "@jupyter-widgets/base",
            "_view_module_version": "1.2.0",
            "_view_name": "StyleView",
            "bar_color": null,
            "description_width": ""
          }
        },
        "130e778184ab4e649e2dfd2712918f6e": {
          "model_module": "@jupyter-widgets/base",
          "model_name": "LayoutModel",
          "model_module_version": "1.2.0",
          "state": {
            "_model_module": "@jupyter-widgets/base",
            "_model_module_version": "1.2.0",
            "_model_name": "LayoutModel",
            "_view_count": null,
            "_view_module": "@jupyter-widgets/base",
            "_view_module_version": "1.2.0",
            "_view_name": "LayoutView",
            "align_content": null,
            "align_items": null,
            "align_self": null,
            "border": null,
            "bottom": null,
            "display": null,
            "flex": null,
            "flex_flow": null,
            "grid_area": null,
            "grid_auto_columns": null,
            "grid_auto_flow": null,
            "grid_auto_rows": null,
            "grid_column": null,
            "grid_gap": null,
            "grid_row": null,
            "grid_template_areas": null,
            "grid_template_columns": null,
            "grid_template_rows": null,
            "height": null,
            "justify_content": null,
            "justify_items": null,
            "left": null,
            "margin": null,
            "max_height": null,
            "max_width": null,
            "min_height": null,
            "min_width": null,
            "object_fit": null,
            "object_position": null,
            "order": null,
            "overflow": null,
            "overflow_x": null,
            "overflow_y": null,
            "padding": null,
            "right": null,
            "top": null,
            "visibility": null,
            "width": null
          }
        },
        "1515bd12f2a844d1b456f1259b556e78": {
          "model_module": "@jupyter-widgets/controls",
          "model_name": "DescriptionStyleModel",
          "model_module_version": "1.5.0",
          "state": {
            "_model_module": "@jupyter-widgets/controls",
            "_model_module_version": "1.5.0",
            "_model_name": "DescriptionStyleModel",
            "_view_count": null,
            "_view_module": "@jupyter-widgets/base",
            "_view_module_version": "1.2.0",
            "_view_name": "StyleView",
            "description_width": ""
          }
        },
        "ca2c93cfcc6941eab5874b72591375cd": {
          "model_module": "@jupyter-widgets/controls",
          "model_name": "HBoxModel",
          "model_module_version": "1.5.0",
          "state": {
            "_dom_classes": [],
            "_model_module": "@jupyter-widgets/controls",
            "_model_module_version": "1.5.0",
            "_model_name": "HBoxModel",
            "_view_count": null,
            "_view_module": "@jupyter-widgets/controls",
            "_view_module_version": "1.5.0",
            "_view_name": "HBoxView",
            "box_style": "",
            "children": [
              "IPY_MODEL_a8b9b4236bb2405d9a80d2d302dfcecc",
              "IPY_MODEL_e5aa2fa07b4743d485d3ab4792fa43fa",
              "IPY_MODEL_61694298a2f44f10a78af534b2e26fd5"
            ],
            "layout": "IPY_MODEL_fa3ec4c5a4f9464d8e8e90ef650aa093"
          }
        },
        "a8b9b4236bb2405d9a80d2d302dfcecc": {
          "model_module": "@jupyter-widgets/controls",
          "model_name": "HTMLModel",
          "model_module_version": "1.5.0",
          "state": {
            "_dom_classes": [],
            "_model_module": "@jupyter-widgets/controls",
            "_model_module_version": "1.5.0",
            "_model_name": "HTMLModel",
            "_view_count": null,
            "_view_module": "@jupyter-widgets/controls",
            "_view_module_version": "1.5.0",
            "_view_name": "HTMLView",
            "description": "",
            "description_tooltip": null,
            "layout": "IPY_MODEL_1b40874416a14494889aa652cb262d91",
            "placeholder": "​",
            "style": "IPY_MODEL_d92ce9ba22034364acf5a264b236e7ee",
            "value": "Downloading: 100%"
          }
        },
        "e5aa2fa07b4743d485d3ab4792fa43fa": {
          "model_module": "@jupyter-widgets/controls",
          "model_name": "FloatProgressModel",
          "model_module_version": "1.5.0",
          "state": {
            "_dom_classes": [],
            "_model_module": "@jupyter-widgets/controls",
            "_model_module_version": "1.5.0",
            "_model_name": "FloatProgressModel",
            "_view_count": null,
            "_view_module": "@jupyter-widgets/controls",
            "_view_module_version": "1.5.0",
            "_view_name": "ProgressView",
            "bar_style": "success",
            "description": "",
            "description_tooltip": null,
            "layout": "IPY_MODEL_c6cd15732e6b4bb1994aecc5986a19cb",
            "max": 2275329241,
            "min": 0,
            "orientation": "horizontal",
            "style": "IPY_MODEL_63bd42bce6f94794bd97a29d620e9085",
            "value": 2275329241
          }
        },
        "61694298a2f44f10a78af534b2e26fd5": {
          "model_module": "@jupyter-widgets/controls",
          "model_name": "HTMLModel",
          "model_module_version": "1.5.0",
          "state": {
            "_dom_classes": [],
            "_model_module": "@jupyter-widgets/controls",
            "_model_module_version": "1.5.0",
            "_model_name": "HTMLModel",
            "_view_count": null,
            "_view_module": "@jupyter-widgets/controls",
            "_view_module_version": "1.5.0",
            "_view_name": "HTMLView",
            "description": "",
            "description_tooltip": null,
            "layout": "IPY_MODEL_bc39435e081f4b0ba5d8171726a43f59",
            "placeholder": "​",
            "style": "IPY_MODEL_1d862d2e6e0c42f8932c03fdfeff3158",
            "value": " 2.12G/2.12G [01:10&lt;00:00, 47.2MB/s]"
          }
        },
        "fa3ec4c5a4f9464d8e8e90ef650aa093": {
          "model_module": "@jupyter-widgets/base",
          "model_name": "LayoutModel",
          "model_module_version": "1.2.0",
          "state": {
            "_model_module": "@jupyter-widgets/base",
            "_model_module_version": "1.2.0",
            "_model_name": "LayoutModel",
            "_view_count": null,
            "_view_module": "@jupyter-widgets/base",
            "_view_module_version": "1.2.0",
            "_view_name": "LayoutView",
            "align_content": null,
            "align_items": null,
            "align_self": null,
            "border": null,
            "bottom": null,
            "display": null,
            "flex": null,
            "flex_flow": null,
            "grid_area": null,
            "grid_auto_columns": null,
            "grid_auto_flow": null,
            "grid_auto_rows": null,
            "grid_column": null,
            "grid_gap": null,
            "grid_row": null,
            "grid_template_areas": null,
            "grid_template_columns": null,
            "grid_template_rows": null,
            "height": null,
            "justify_content": null,
            "justify_items": null,
            "left": null,
            "margin": null,
            "max_height": null,
            "max_width": null,
            "min_height": null,
            "min_width": null,
            "object_fit": null,
            "object_position": null,
            "order": null,
            "overflow": null,
            "overflow_x": null,
            "overflow_y": null,
            "padding": null,
            "right": null,
            "top": null,
            "visibility": null,
            "width": null
          }
        },
        "1b40874416a14494889aa652cb262d91": {
          "model_module": "@jupyter-widgets/base",
          "model_name": "LayoutModel",
          "model_module_version": "1.2.0",
          "state": {
            "_model_module": "@jupyter-widgets/base",
            "_model_module_version": "1.2.0",
            "_model_name": "LayoutModel",
            "_view_count": null,
            "_view_module": "@jupyter-widgets/base",
            "_view_module_version": "1.2.0",
            "_view_name": "LayoutView",
            "align_content": null,
            "align_items": null,
            "align_self": null,
            "border": null,
            "bottom": null,
            "display": null,
            "flex": null,
            "flex_flow": null,
            "grid_area": null,
            "grid_auto_columns": null,
            "grid_auto_flow": null,
            "grid_auto_rows": null,
            "grid_column": null,
            "grid_gap": null,
            "grid_row": null,
            "grid_template_areas": null,
            "grid_template_columns": null,
            "grid_template_rows": null,
            "height": null,
            "justify_content": null,
            "justify_items": null,
            "left": null,
            "margin": null,
            "max_height": null,
            "max_width": null,
            "min_height": null,
            "min_width": null,
            "object_fit": null,
            "object_position": null,
            "order": null,
            "overflow": null,
            "overflow_x": null,
            "overflow_y": null,
            "padding": null,
            "right": null,
            "top": null,
            "visibility": null,
            "width": null
          }
        },
        "d92ce9ba22034364acf5a264b236e7ee": {
          "model_module": "@jupyter-widgets/controls",
          "model_name": "DescriptionStyleModel",
          "model_module_version": "1.5.0",
          "state": {
            "_model_module": "@jupyter-widgets/controls",
            "_model_module_version": "1.5.0",
            "_model_name": "DescriptionStyleModel",
            "_view_count": null,
            "_view_module": "@jupyter-widgets/base",
            "_view_module_version": "1.2.0",
            "_view_name": "StyleView",
            "description_width": ""
          }
        },
        "c6cd15732e6b4bb1994aecc5986a19cb": {
          "model_module": "@jupyter-widgets/base",
          "model_name": "LayoutModel",
          "model_module_version": "1.2.0",
          "state": {
            "_model_module": "@jupyter-widgets/base",
            "_model_module_version": "1.2.0",
            "_model_name": "LayoutModel",
            "_view_count": null,
            "_view_module": "@jupyter-widgets/base",
            "_view_module_version": "1.2.0",
            "_view_name": "LayoutView",
            "align_content": null,
            "align_items": null,
            "align_self": null,
            "border": null,
            "bottom": null,
            "display": null,
            "flex": null,
            "flex_flow": null,
            "grid_area": null,
            "grid_auto_columns": null,
            "grid_auto_flow": null,
            "grid_auto_rows": null,
            "grid_column": null,
            "grid_gap": null,
            "grid_row": null,
            "grid_template_areas": null,
            "grid_template_columns": null,
            "grid_template_rows": null,
            "height": null,
            "justify_content": null,
            "justify_items": null,
            "left": null,
            "margin": null,
            "max_height": null,
            "max_width": null,
            "min_height": null,
            "min_width": null,
            "object_fit": null,
            "object_position": null,
            "order": null,
            "overflow": null,
            "overflow_x": null,
            "overflow_y": null,
            "padding": null,
            "right": null,
            "top": null,
            "visibility": null,
            "width": null
          }
        },
        "63bd42bce6f94794bd97a29d620e9085": {
          "model_module": "@jupyter-widgets/controls",
          "model_name": "ProgressStyleModel",
          "model_module_version": "1.5.0",
          "state": {
            "_model_module": "@jupyter-widgets/controls",
            "_model_module_version": "1.5.0",
            "_model_name": "ProgressStyleModel",
            "_view_count": null,
            "_view_module": "@jupyter-widgets/base",
            "_view_module_version": "1.2.0",
            "_view_name": "StyleView",
            "bar_color": null,
            "description_width": ""
          }
        },
        "bc39435e081f4b0ba5d8171726a43f59": {
          "model_module": "@jupyter-widgets/base",
          "model_name": "LayoutModel",
          "model_module_version": "1.2.0",
          "state": {
            "_model_module": "@jupyter-widgets/base",
            "_model_module_version": "1.2.0",
            "_model_name": "LayoutModel",
            "_view_count": null,
            "_view_module": "@jupyter-widgets/base",
            "_view_module_version": "1.2.0",
            "_view_name": "LayoutView",
            "align_content": null,
            "align_items": null,
            "align_self": null,
            "border": null,
            "bottom": null,
            "display": null,
            "flex": null,
            "flex_flow": null,
            "grid_area": null,
            "grid_auto_columns": null,
            "grid_auto_flow": null,
            "grid_auto_rows": null,
            "grid_column": null,
            "grid_gap": null,
            "grid_row": null,
            "grid_template_areas": null,
            "grid_template_columns": null,
            "grid_template_rows": null,
            "height": null,
            "justify_content": null,
            "justify_items": null,
            "left": null,
            "margin": null,
            "max_height": null,
            "max_width": null,
            "min_height": null,
            "min_width": null,
            "object_fit": null,
            "object_position": null,
            "order": null,
            "overflow": null,
            "overflow_x": null,
            "overflow_y": null,
            "padding": null,
            "right": null,
            "top": null,
            "visibility": null,
            "width": null
          }
        },
        "1d862d2e6e0c42f8932c03fdfeff3158": {
          "model_module": "@jupyter-widgets/controls",
          "model_name": "DescriptionStyleModel",
          "model_module_version": "1.5.0",
          "state": {
            "_model_module": "@jupyter-widgets/controls",
            "_model_module_version": "1.5.0",
            "_model_name": "DescriptionStyleModel",
            "_view_count": null,
            "_view_module": "@jupyter-widgets/base",
            "_view_module_version": "1.2.0",
            "_view_name": "StyleView",
            "description_width": ""
          }
        },
        "359cb721e5494744b23aa73b7bb65a79": {
          "model_module": "@jupyter-widgets/controls",
          "model_name": "HBoxModel",
          "model_module_version": "1.5.0",
          "state": {
            "_dom_classes": [],
            "_model_module": "@jupyter-widgets/controls",
            "_model_module_version": "1.5.0",
            "_model_name": "HBoxModel",
            "_view_count": null,
            "_view_module": "@jupyter-widgets/controls",
            "_view_module_version": "1.5.0",
            "_view_name": "HBoxView",
            "box_style": "",
            "children": [
              "IPY_MODEL_e50f6d84d3554eeb8fb29feaaa9e4bb3",
              "IPY_MODEL_e0a9fb4cbd2b4800b8d374f5581a9d7c",
              "IPY_MODEL_5c5ca86e9f73475cabed6ce4fdd53096"
            ],
            "layout": "IPY_MODEL_a3a91ee7cc814607b8bd66826182aece"
          }
        },
        "e50f6d84d3554eeb8fb29feaaa9e4bb3": {
          "model_module": "@jupyter-widgets/controls",
          "model_name": "HTMLModel",
          "model_module_version": "1.5.0",
          "state": {
            "_dom_classes": [],
            "_model_module": "@jupyter-widgets/controls",
            "_model_module_version": "1.5.0",
            "_model_name": "HTMLModel",
            "_view_count": null,
            "_view_module": "@jupyter-widgets/controls",
            "_view_module_version": "1.5.0",
            "_view_name": "HTMLView",
            "description": "",
            "description_tooltip": null,
            "layout": "IPY_MODEL_782aa9bbe14441a49b26af256a0d1f8b",
            "placeholder": "​",
            "style": "IPY_MODEL_2fce7eecd5674b60834fd4f284975b0a",
            "value": "100%"
          }
        },
        "e0a9fb4cbd2b4800b8d374f5581a9d7c": {
          "model_module": "@jupyter-widgets/controls",
          "model_name": "FloatProgressModel",
          "model_module_version": "1.5.0",
          "state": {
            "_dom_classes": [],
            "_model_module": "@jupyter-widgets/controls",
            "_model_module_version": "1.5.0",
            "_model_name": "FloatProgressModel",
            "_view_count": null,
            "_view_module": "@jupyter-widgets/controls",
            "_view_module_version": "1.5.0",
            "_view_name": "ProgressView",
            "bar_style": "success",
            "description": "",
            "description_tooltip": null,
            "layout": "IPY_MODEL_cf3c79404e0b476b8b42bf5d52aac1ab",
            "max": 200,
            "min": 0,
            "orientation": "horizontal",
            "style": "IPY_MODEL_d37fc5ce0ac94f399ee2a72943ad7393",
            "value": 200
          }
        },
        "5c5ca86e9f73475cabed6ce4fdd53096": {
          "model_module": "@jupyter-widgets/controls",
          "model_name": "HTMLModel",
          "model_module_version": "1.5.0",
          "state": {
            "_dom_classes": [],
            "_model_module": "@jupyter-widgets/controls",
            "_model_module_version": "1.5.0",
            "_model_name": "HTMLModel",
            "_view_count": null,
            "_view_module": "@jupyter-widgets/controls",
            "_view_module_version": "1.5.0",
            "_view_name": "HTMLView",
            "description": "",
            "description_tooltip": null,
            "layout": "IPY_MODEL_3269cf35906c43e8880ed7a94be7d7ac",
            "placeholder": "​",
            "style": "IPY_MODEL_1f5039606ce2496ca5f136ea29993c6f",
            "value": " 200/200 [41:39&lt;00:00, 12.90s/it]"
          }
        },
        "a3a91ee7cc814607b8bd66826182aece": {
          "model_module": "@jupyter-widgets/base",
          "model_name": "LayoutModel",
          "model_module_version": "1.2.0",
          "state": {
            "_model_module": "@jupyter-widgets/base",
            "_model_module_version": "1.2.0",
            "_model_name": "LayoutModel",
            "_view_count": null,
            "_view_module": "@jupyter-widgets/base",
            "_view_module_version": "1.2.0",
            "_view_name": "LayoutView",
            "align_content": null,
            "align_items": null,
            "align_self": null,
            "border": null,
            "bottom": null,
            "display": null,
            "flex": null,
            "flex_flow": null,
            "grid_area": null,
            "grid_auto_columns": null,
            "grid_auto_flow": null,
            "grid_auto_rows": null,
            "grid_column": null,
            "grid_gap": null,
            "grid_row": null,
            "grid_template_areas": null,
            "grid_template_columns": null,
            "grid_template_rows": null,
            "height": null,
            "justify_content": null,
            "justify_items": null,
            "left": null,
            "margin": null,
            "max_height": null,
            "max_width": null,
            "min_height": null,
            "min_width": null,
            "object_fit": null,
            "object_position": null,
            "order": null,
            "overflow": null,
            "overflow_x": null,
            "overflow_y": null,
            "padding": null,
            "right": null,
            "top": null,
            "visibility": null,
            "width": null
          }
        },
        "782aa9bbe14441a49b26af256a0d1f8b": {
          "model_module": "@jupyter-widgets/base",
          "model_name": "LayoutModel",
          "model_module_version": "1.2.0",
          "state": {
            "_model_module": "@jupyter-widgets/base",
            "_model_module_version": "1.2.0",
            "_model_name": "LayoutModel",
            "_view_count": null,
            "_view_module": "@jupyter-widgets/base",
            "_view_module_version": "1.2.0",
            "_view_name": "LayoutView",
            "align_content": null,
            "align_items": null,
            "align_self": null,
            "border": null,
            "bottom": null,
            "display": null,
            "flex": null,
            "flex_flow": null,
            "grid_area": null,
            "grid_auto_columns": null,
            "grid_auto_flow": null,
            "grid_auto_rows": null,
            "grid_column": null,
            "grid_gap": null,
            "grid_row": null,
            "grid_template_areas": null,
            "grid_template_columns": null,
            "grid_template_rows": null,
            "height": null,
            "justify_content": null,
            "justify_items": null,
            "left": null,
            "margin": null,
            "max_height": null,
            "max_width": null,
            "min_height": null,
            "min_width": null,
            "object_fit": null,
            "object_position": null,
            "order": null,
            "overflow": null,
            "overflow_x": null,
            "overflow_y": null,
            "padding": null,
            "right": null,
            "top": null,
            "visibility": null,
            "width": null
          }
        },
        "2fce7eecd5674b60834fd4f284975b0a": {
          "model_module": "@jupyter-widgets/controls",
          "model_name": "DescriptionStyleModel",
          "model_module_version": "1.5.0",
          "state": {
            "_model_module": "@jupyter-widgets/controls",
            "_model_module_version": "1.5.0",
            "_model_name": "DescriptionStyleModel",
            "_view_count": null,
            "_view_module": "@jupyter-widgets/base",
            "_view_module_version": "1.2.0",
            "_view_name": "StyleView",
            "description_width": ""
          }
        },
        "cf3c79404e0b476b8b42bf5d52aac1ab": {
          "model_module": "@jupyter-widgets/base",
          "model_name": "LayoutModel",
          "model_module_version": "1.2.0",
          "state": {
            "_model_module": "@jupyter-widgets/base",
            "_model_module_version": "1.2.0",
            "_model_name": "LayoutModel",
            "_view_count": null,
            "_view_module": "@jupyter-widgets/base",
            "_view_module_version": "1.2.0",
            "_view_name": "LayoutView",
            "align_content": null,
            "align_items": null,
            "align_self": null,
            "border": null,
            "bottom": null,
            "display": null,
            "flex": null,
            "flex_flow": null,
            "grid_area": null,
            "grid_auto_columns": null,
            "grid_auto_flow": null,
            "grid_auto_rows": null,
            "grid_column": null,
            "grid_gap": null,
            "grid_row": null,
            "grid_template_areas": null,
            "grid_template_columns": null,
            "grid_template_rows": null,
            "height": null,
            "justify_content": null,
            "justify_items": null,
            "left": null,
            "margin": null,
            "max_height": null,
            "max_width": null,
            "min_height": null,
            "min_width": null,
            "object_fit": null,
            "object_position": null,
            "order": null,
            "overflow": null,
            "overflow_x": null,
            "overflow_y": null,
            "padding": null,
            "right": null,
            "top": null,
            "visibility": null,
            "width": null
          }
        },
        "d37fc5ce0ac94f399ee2a72943ad7393": {
          "model_module": "@jupyter-widgets/controls",
          "model_name": "ProgressStyleModel",
          "model_module_version": "1.5.0",
          "state": {
            "_model_module": "@jupyter-widgets/controls",
            "_model_module_version": "1.5.0",
            "_model_name": "ProgressStyleModel",
            "_view_count": null,
            "_view_module": "@jupyter-widgets/base",
            "_view_module_version": "1.2.0",
            "_view_name": "StyleView",
            "bar_color": null,
            "description_width": ""
          }
        },
        "3269cf35906c43e8880ed7a94be7d7ac": {
          "model_module": "@jupyter-widgets/base",
          "model_name": "LayoutModel",
          "model_module_version": "1.2.0",
          "state": {
            "_model_module": "@jupyter-widgets/base",
            "_model_module_version": "1.2.0",
            "_model_name": "LayoutModel",
            "_view_count": null,
            "_view_module": "@jupyter-widgets/base",
            "_view_module_version": "1.2.0",
            "_view_name": "LayoutView",
            "align_content": null,
            "align_items": null,
            "align_self": null,
            "border": null,
            "bottom": null,
            "display": null,
            "flex": null,
            "flex_flow": null,
            "grid_area": null,
            "grid_auto_columns": null,
            "grid_auto_flow": null,
            "grid_auto_rows": null,
            "grid_column": null,
            "grid_gap": null,
            "grid_row": null,
            "grid_template_areas": null,
            "grid_template_columns": null,
            "grid_template_rows": null,
            "height": null,
            "justify_content": null,
            "justify_items": null,
            "left": null,
            "margin": null,
            "max_height": null,
            "max_width": null,
            "min_height": null,
            "min_width": null,
            "object_fit": null,
            "object_position": null,
            "order": null,
            "overflow": null,
            "overflow_x": null,
            "overflow_y": null,
            "padding": null,
            "right": null,
            "top": null,
            "visibility": null,
            "width": null
          }
        },
        "1f5039606ce2496ca5f136ea29993c6f": {
          "model_module": "@jupyter-widgets/controls",
          "model_name": "DescriptionStyleModel",
          "model_module_version": "1.5.0",
          "state": {
            "_model_module": "@jupyter-widgets/controls",
            "_model_module_version": "1.5.0",
            "_model_name": "DescriptionStyleModel",
            "_view_count": null,
            "_view_module": "@jupyter-widgets/base",
            "_view_module_version": "1.2.0",
            "_view_name": "StyleView",
            "description_width": ""
          }
        }
      }
    }
  },
  "cells": [
    {
      "cell_type": "markdown",
      "metadata": {
        "id": "view-in-github",
        "colab_type": "text"
      },
      "source": [
        "<a href=\"https://colab.research.google.com/github/Sumedhachak/creditCardDefaulters/blob/main/pegasus-xmus_implem.ipynb\" target=\"_parent\"><img src=\"https://colab.research.google.com/assets/colab-badge.svg\" alt=\"Open In Colab\"/></a>"
      ]
    },
    {
      "cell_type": "code",
      "metadata": {
        "id": "UnPDtGXAc83Y",
        "outputId": "1dff3ec2-2d77-41c3-9e05-d278a3bc6068",
        "colab": {
          "base_uri": "https://localhost:8080/",
          "height": 644
        }
      },
      "source": [
        "!pip install transformers==4.17.0"
      ],
      "execution_count": 18,
      "outputs": [
        {
          "output_type": "stream",
          "name": "stdout",
          "text": [
            "Collecting transformers==4.17.0\n",
            "  Downloading transformers-4.17.0-py3-none-any.whl (3.8 MB)\n",
            "\u001b[K     |████████████████████████████████| 3.8 MB 10.0 MB/s \n",
            "\u001b[?25hRequirement already satisfied: regex!=2019.12.17 in /usr/local/lib/python3.7/dist-packages (from transformers==4.17.0) (2019.12.20)\n",
            "Requirement already satisfied: numpy>=1.17 in /usr/local/lib/python3.7/dist-packages (from transformers==4.17.0) (1.21.6)\n",
            "Requirement already satisfied: filelock in /usr/local/lib/python3.7/dist-packages (from transformers==4.17.0) (3.6.0)\n",
            "Requirement already satisfied: packaging>=20.0 in /usr/local/lib/python3.7/dist-packages (from transformers==4.17.0) (21.3)\n",
            "Requirement already satisfied: requests in /usr/local/lib/python3.7/dist-packages (from transformers==4.17.0) (2.23.0)\n",
            "Requirement already satisfied: tokenizers!=0.11.3,>=0.11.1 in /usr/local/lib/python3.7/dist-packages (from transformers==4.17.0) (0.12.1)\n",
            "Requirement already satisfied: tqdm>=4.27 in /usr/local/lib/python3.7/dist-packages (from transformers==4.17.0) (4.64.0)\n",
            "Requirement already satisfied: importlib-metadata in /usr/local/lib/python3.7/dist-packages (from transformers==4.17.0) (4.11.3)\n",
            "Requirement already satisfied: huggingface-hub<1.0,>=0.1.0 in /usr/local/lib/python3.7/dist-packages (from transformers==4.17.0) (0.5.1)\n",
            "Requirement already satisfied: pyyaml>=5.1 in /usr/local/lib/python3.7/dist-packages (from transformers==4.17.0) (6.0)\n",
            "Requirement already satisfied: sacremoses in /usr/local/lib/python3.7/dist-packages (from transformers==4.17.0) (0.0.49)\n",
            "Requirement already satisfied: typing-extensions>=3.7.4.3 in /usr/local/lib/python3.7/dist-packages (from huggingface-hub<1.0,>=0.1.0->transformers==4.17.0) (4.2.0)\n",
            "Requirement already satisfied: pyparsing!=3.0.5,>=2.0.2 in /usr/local/lib/python3.7/dist-packages (from packaging>=20.0->transformers==4.17.0) (3.0.8)\n",
            "Requirement already satisfied: zipp>=0.5 in /usr/local/lib/python3.7/dist-packages (from importlib-metadata->transformers==4.17.0) (3.8.0)\n",
            "Requirement already satisfied: urllib3!=1.25.0,!=1.25.1,<1.26,>=1.21.1 in /usr/local/lib/python3.7/dist-packages (from requests->transformers==4.17.0) (1.24.3)\n",
            "Requirement already satisfied: certifi>=2017.4.17 in /usr/local/lib/python3.7/dist-packages (from requests->transformers==4.17.0) (2021.10.8)\n",
            "Requirement already satisfied: idna<3,>=2.5 in /usr/local/lib/python3.7/dist-packages (from requests->transformers==4.17.0) (2.10)\n",
            "Requirement already satisfied: chardet<4,>=3.0.2 in /usr/local/lib/python3.7/dist-packages (from requests->transformers==4.17.0) (3.0.4)\n",
            "Requirement already satisfied: joblib in /usr/local/lib/python3.7/dist-packages (from sacremoses->transformers==4.17.0) (1.1.0)\n",
            "Requirement already satisfied: click in /usr/local/lib/python3.7/dist-packages (from sacremoses->transformers==4.17.0) (7.1.2)\n",
            "Requirement already satisfied: six in /usr/local/lib/python3.7/dist-packages (from sacremoses->transformers==4.17.0) (1.15.0)\n",
            "Installing collected packages: transformers\n",
            "  Attempting uninstall: transformers\n",
            "    Found existing installation: transformers 4.18.0\n",
            "    Uninstalling transformers-4.18.0:\n",
            "      Successfully uninstalled transformers-4.18.0\n",
            "Successfully installed transformers-4.17.0\n"
          ]
        },
        {
          "output_type": "display_data",
          "data": {
            "application/vnd.colab-display-data+json": {
              "pip_warning": {
                "packages": [
                  "transformers"
                ]
              }
            }
          },
          "metadata": {}
        }
      ]
    },
    {
      "cell_type": "code",
      "metadata": {
        "id": "rG0wPsOOd-Ww",
        "outputId": "1ca27c8e-946f-4d3d-fa18-1402f3d6a58d",
        "colab": {
          "base_uri": "https://localhost:8080/"
        }
      },
      "source": [
        "!pip install pyspellchecker"
      ],
      "execution_count": 1,
      "outputs": [
        {
          "output_type": "stream",
          "name": "stdout",
          "text": [
            "Requirement already satisfied: pyspellchecker in /usr/local/lib/python3.7/dist-packages (0.6.3)\n"
          ]
        }
      ]
    },
    {
      "cell_type": "code",
      "metadata": {
        "id": "0gSXberQdViq"
      },
      "source": [
        "from transformers import PegasusForConditionalGeneration, PegasusTokenizer\n",
        "import torch"
      ],
      "execution_count": 2,
      "outputs": []
    },
    {
      "cell_type": "markdown",
      "metadata": {
        "id": "S3PYeeGuda0m"
      },
      "source": [
        "### Examples"
      ]
    },
    {
      "cell_type": "code",
      "metadata": {
        "id": "Ivqni7zOeEIy"
      },
      "source": [
        "## The last two examples are from the Pegasus paper: https://arxiv.org/pdf/1912.08777.pdf\n",
        "src_text = [\n",
        "    \"\"\" PG&E stated it scheduled the blackouts in response to forecasts for high winds amid dry conditions. \n",
        "    The aim is to reduce the risk of wildfires. Nearly 800 thousand customers were scheduled to be affected by the shutoffs which were expected to last through at least midday tomorrow.\"\"\",\n",
        "    \"\"\"She will play Denker, a lady’s maid to Dame Maggie Smith’s character, the Dowager Countess of Grantham. Johnston, who has also appeared in\n",
        "Waking the Dead and Coronation Street, joins new stars Richard E Grant and Anna Chancellor, both of whom will play guests of the Granthams\n",
        "at Downton. The hit period drama will return to screens this autumn. Series four of the show, which followed the wealthy Grantham family and\n",
        "their servants, achieved an average of 11.9 million viewers in the UK. The very British drama has also been a huge hit in the US, winning both\n",
        "Emmy Awards and Golden Globes. More than 26 million viewers watched series four on Masterpiece on PBS, making it one of the highest rating\n",
        "shows on American television. Previous high profile guest stars include Shirley Maclaine who played Martha Levinson, Lady Grantham’s mother,\n",
        "and Oscar-nominated actor Paul Giamatti who appeared in last year’s Christmas special as her ”maverick, playboy” son. Series five will also feature\n",
        "24 star Rade Sherbedgia as a Russian refugee who has fled the revolution after World War 1. Earlier this year, executive producer Gareth Neame\n",
        "promised it would have ”all the usual highs and lows, romance, drama and comedy”\"\"\",\n",
        "    \"\"\"Matthew Gillard, of Connsbrook Avenue in east Belfast, pleaded not guilty to charges including kidnapping and false imprisonment. The defendant,\n",
        "25, also denied charges of common assault, assaulting a police officer and driving dangerously. The charges relate to incidents in east Belfast and\n",
        "Comber on Saturday 4 April. Newtownards Magistrates Court heard that the defendant and the woman were in his car in east Belfast when he\n",
        "began questioning her about who she was seeing. A detective giving evidence in court said the woman tried to get out of the Seat Toledo car but the\n",
        "defendant allegedly drove off at speed, through a red light on Bloomfield Avenue. When the car stopped on the Belfast Road in Comber, the woman\n",
        "escaped along a lane but was carried back to the car by the defendant, the court heard. An off-duty police sergeant saw this and went to help the\n",
        "woman. When the sergeant tried to intervene, the defendant allegedly drove his car at the officer, forcing him to get out of the way. The sergeant was\n",
        "able to pull the keys from the ignition through the car’s open window, but the defendant wrenched them from his grasp. He then drove to the Grand\n",
        "Parade area of east Belfast where the woman was released. He is also alleged to have sent the woman a message threatening that if she went to police\n",
        "about the incident he would ”ruin her life in every possible way”. The court heard that the defendant handed himself over to police on Wednesday,\n",
        "despite being aware since Saturday that he was wanted by the PSNI. But during police interviews he refused to answer questions put to him. An\n",
        "application for bail was made but this was refused. Mr Gillard will appear again in court on 1 May.\"\"\"\n",
        "]"
      ],
      "execution_count": 8,
      "outputs": []
    },
    {
      "cell_type": "code",
      "metadata": {
        "id": "dbSgVNu-eRC9"
      },
      "source": [
        "model_name = 'google/pegasus-xsum'\n",
        "torch_device = 'cuda' if torch.cuda.is_available() else 'cpu'"
      ],
      "execution_count": 4,
      "outputs": []
    },
    {
      "cell_type": "code",
      "source": [
        "!pip install sentencepiece"
      ],
      "metadata": {
        "colab": {
          "base_uri": "https://localhost:8080/"
        },
        "id": "W7W8mRPPRsRW",
        "outputId": "c4d4243a-c1c3-4d65-f763-910f7e593945"
      },
      "execution_count": 5,
      "outputs": [
        {
          "output_type": "stream",
          "name": "stdout",
          "text": [
            "Requirement already satisfied: sentencepiece in /usr/local/lib/python3.7/dist-packages (0.1.96)\n"
          ]
        }
      ]
    },
    {
      "cell_type": "code",
      "metadata": {
        "id": "a8iSyQA6eU3S",
        "outputId": "cdb66a1d-de99-4215-895e-45dd25ccd306",
        "colab": {
          "base_uri": "https://localhost:8080/",
          "height": 177,
          "referenced_widgets": [
            "e0f074f5285140beaec8c18cb7bf4048",
            "dc6a166f959a4a858a866fec563f8be9",
            "61601874df1d4961862b49470c2d159a",
            "c3da696378a34f2bb3e67634d17e8aac",
            "42719bf95d824c04afdf3481cf82dcbf",
            "17bfb98dcb0947f2ad545d223aeed2bb",
            "dfccbfbefdc845bfbd959bda2467b1a7",
            "cf57ca41f9c34e68a2bcea7d79bc1305",
            "40d7ba0551a0458a85cb58c9400ab44d",
            "5cae49f90d5e4f0995cfb099ee1cca9b",
            "8af7250890dd4b5081f875595d78cbd5",
            "55c5f2c8f0fb416f97598ca4c99f9e80",
            "9d0f649ddc424ab0a83beecd9bb6c3fc",
            "c06b2b5d191f40a381fc9d2c9a0d9e27",
            "73676cce41434c759646f38c3d285228",
            "ff70a5032edb4b4f9e29c2025c4a6678",
            "55739a2a6fcf4e7b8ea77e9994801e6e",
            "612d1fe2a1d847ae80b3da57029929c3",
            "083a840be85b4c20b80d63ac88523096",
            "368ace09a22641869742b46386c111d8",
            "0771a134bd4746189e848d367118ddf2",
            "076b4aab33764aa2ac2a1f58a474eaf6",
            "78616bfe9d6542beb4c267a2dd6b50a5",
            "e962d126ec424c60b0003dabd778c26c",
            "3afc9648f8ce44dcabf8b620213b206d",
            "771569d2274647ecb6b55b214c30002d",
            "0d7db2e9624241239e7cae5160612e2d",
            "6673cfb149ad4f74a9be796720c706fe",
            "96d6aed0f869435a8542df0bbfd949f8",
            "bc2c90c1313f46769c7fe90a2ec18897",
            "8c36a67c96b44d54b2ab4996afbaadfe",
            "2f96c7d585984dcd9cdcb97eb19f5139",
            "0abb091f653b4d8ca10eb5e576f23333",
            "059264a7631743c49c5ff374b420b22e",
            "46df1344896147409e741f2043b117ea",
            "1c1496a42d5748f09b8c42a13cc3b1af",
            "6d28f958546d4b20aafc90e53d0320fb",
            "61e60d5c99b64f148d559e9373762759",
            "fa58454db39c417e8a4f8493c5520480",
            "42b522072e264f81be773857f6ca464c",
            "9e2377756e764e739cc1136a9727f17d",
            "d21056e745224ee38575ad10e21dd6d8",
            "130e778184ab4e649e2dfd2712918f6e",
            "1515bd12f2a844d1b456f1259b556e78",
            "ca2c93cfcc6941eab5874b72591375cd",
            "a8b9b4236bb2405d9a80d2d302dfcecc",
            "e5aa2fa07b4743d485d3ab4792fa43fa",
            "61694298a2f44f10a78af534b2e26fd5",
            "fa3ec4c5a4f9464d8e8e90ef650aa093",
            "1b40874416a14494889aa652cb262d91",
            "d92ce9ba22034364acf5a264b236e7ee",
            "c6cd15732e6b4bb1994aecc5986a19cb",
            "63bd42bce6f94794bd97a29d620e9085",
            "bc39435e081f4b0ba5d8171726a43f59",
            "1d862d2e6e0c42f8932c03fdfeff3158"
          ]
        }
      },
      "source": [
        "tokenizer = PegasusTokenizer.from_pretrained(model_name)\n",
        "model = PegasusForConditionalGeneration.from_pretrained(model_name).to(torch_device)"
      ],
      "execution_count": 6,
      "outputs": [
        {
          "output_type": "display_data",
          "data": {
            "text/plain": [
              "Downloading:   0%|          | 0.00/1.82M [00:00<?, ?B/s]"
            ],
            "application/vnd.jupyter.widget-view+json": {
              "version_major": 2,
              "version_minor": 0,
              "model_id": "e0f074f5285140beaec8c18cb7bf4048"
            }
          },
          "metadata": {}
        },
        {
          "output_type": "display_data",
          "data": {
            "text/plain": [
              "Downloading:   0%|          | 0.00/65.0 [00:00<?, ?B/s]"
            ],
            "application/vnd.jupyter.widget-view+json": {
              "version_major": 2,
              "version_minor": 0,
              "model_id": "55c5f2c8f0fb416f97598ca4c99f9e80"
            }
          },
          "metadata": {}
        },
        {
          "output_type": "display_data",
          "data": {
            "text/plain": [
              "Downloading:   0%|          | 0.00/87.0 [00:00<?, ?B/s]"
            ],
            "application/vnd.jupyter.widget-view+json": {
              "version_major": 2,
              "version_minor": 0,
              "model_id": "78616bfe9d6542beb4c267a2dd6b50a5"
            }
          },
          "metadata": {}
        },
        {
          "output_type": "display_data",
          "data": {
            "text/plain": [
              "Downloading:   0%|          | 0.00/1.36k [00:00<?, ?B/s]"
            ],
            "application/vnd.jupyter.widget-view+json": {
              "version_major": 2,
              "version_minor": 0,
              "model_id": "059264a7631743c49c5ff374b420b22e"
            }
          },
          "metadata": {}
        },
        {
          "output_type": "display_data",
          "data": {
            "text/plain": [
              "Downloading:   0%|          | 0.00/2.12G [00:00<?, ?B/s]"
            ],
            "application/vnd.jupyter.widget-view+json": {
              "version_major": 2,
              "version_minor": 0,
              "model_id": "ca2c93cfcc6941eab5874b72591375cd"
            }
          },
          "metadata": {}
        }
      ]
    },
    {
      "cell_type": "code",
      "metadata": {
        "id": "E3Sb8fMYQfLp",
        "colab": {
          "base_uri": "https://localhost:8080/"
        },
        "outputId": "c4db6abc-00f2-481a-ba4a-9e9dc30945d3"
      },
      "source": [
        "#batch = tokenizer.prepare_seq2seq_batch(src_text, truncation=True, padding='longest').to(torch_device)\n",
        "batch = tokenizer.prepare_seq2seq_batch(src_text, truncation=True, padding='longest', return_tensors='pt').to(torch_device)"
      ],
      "execution_count": 11,
      "outputs": [
        {
          "output_type": "stream",
          "name": "stderr",
          "text": [
            "/usr/local/lib/python3.7/dist-packages/transformers/tokenization_utils_base.py:3524: FutureWarning: \n",
            "`prepare_seq2seq_batch` is deprecated and will be removed in version 5 of HuggingFace Transformers. Use the regular\n",
            "`__call__` method to prepare your inputs and the tokenizer under the `as_target_tokenizer` context manager to prepare\n",
            "your targets.\n",
            "\n",
            "Here is a short example:\n",
            "\n",
            "model_inputs = tokenizer(src_texts, ...)\n",
            "with tokenizer.as_target_tokenizer():\n",
            "    labels = tokenizer(tgt_texts, ...)\n",
            "model_inputs[\"labels\"] = labels[\"input_ids\"]\n",
            "\n",
            "See the documentation of your specific tokenizer for more details on the specific arguments to the tokenizer of choice.\n",
            "For a more complete example, see the implementation of `prepare_seq2seq_batch`.\n",
            "\n",
            "  warnings.warn(formatted_warning, FutureWarning)\n"
          ]
        }
      ]
    },
    {
      "cell_type": "code",
      "metadata": {
        "id": "cXwbAVX7ScOq"
      },
      "source": [
        "translated = model.generate(**batch)\n",
        "tgt_text = tokenizer.batch_decode(translated, skip_special_tokens=True)"
      ],
      "execution_count": 12,
      "outputs": []
    },
    {
      "cell_type": "code",
      "metadata": {
        "id": "5Zvf8y7fSjOP",
        "outputId": "62214fb2-9a00-497f-9a47-afc057ec8835",
        "colab": {
          "base_uri": "https://localhost:8080/"
        }
      },
      "source": [
        "for txt in tgt_text:\n",
        "    print(txt)"
      ],
      "execution_count": 13,
      "outputs": [
        {
          "output_type": "stream",
          "name": "stdout",
          "text": [
            "California's largest electricity provider has turned off power to hundreds of thousands of customers.\n",
            "Former EastEnders actress Janet Johnston has been cast as a guest star in the fifth series of Downton Abbey.\n",
            "A man has appeared in court charged with kidnapping and assaulting a police officer.\n"
          ]
        }
      ]
    },
    {
      "cell_type": "markdown",
      "metadata": {
        "id": "vkAGqNZESu7S"
      },
      "source": [
        "### Pipelines"
      ]
    },
    {
      "cell_type": "code",
      "metadata": {
        "id": "JAna_ZEqW7eN"
      },
      "source": [
        "from transformers import pipeline"
      ],
      "execution_count": 14,
      "outputs": []
    },
    {
      "cell_type": "code",
      "metadata": {
        "id": "a0AoSVn-W-O2"
      },
      "source": [
        "nlp_summary = pipeline('summarization', model=model, tokenizer=tokenizer)"
      ],
      "execution_count": 15,
      "outputs": []
    },
    {
      "cell_type": "code",
      "metadata": {
        "id": "gYnQ0Sa1W9uP",
        "outputId": "fca22928-b0f3-422b-c625-b558d4181122",
        "colab": {
          "base_uri": "https://localhost:8080/"
        }
      },
      "source": [
        "nlp_summary(src_text[0])"
      ],
      "execution_count": 16,
      "outputs": [
        {
          "output_type": "stream",
          "name": "stderr",
          "text": [
            "Your max_length is set to 64, but you input_length is only 55. You might consider decreasing max_length manually, e.g. summarizer('...', max_length=27)\n"
          ]
        },
        {
          "output_type": "execute_result",
          "data": {
            "text/plain": [
              "[{'summary_text': \"California's largest electricity provider has turned off power to hundreds of thousands of customers.\"}]"
            ]
          },
          "metadata": {},
          "execution_count": 16
        }
      ]
    },
    {
      "cell_type": "markdown",
      "metadata": {
        "id": "dqj9MvyQXVWE"
      },
      "source": [
        "### Wikipedia Random API"
      ]
    },
    {
      "cell_type": "code",
      "metadata": {
        "id": "SmYtqbNYSi_0"
      },
      "source": [
        "from urllib.request import urlopen\n",
        "import json\n",
        "\n",
        "def get_random_text():\n",
        "    with urlopen('https://en.wikipedia.org/api/rest_v1/page/random/summary') as f:\n",
        "        content = f.read().decode('utf-8')\n",
        "        json_dict = json.loads(content)\n",
        "        return json_dict['extract']"
      ],
      "execution_count": 17,
      "outputs": []
    },
    {
      "cell_type": "code",
      "metadata": {
        "id": "58ZmT7b8S7VY"
      },
      "source": [
        "import pandas as pd\n",
        "\n",
        "class StatsData():\n",
        "    def __init__(self):\n",
        "        self.inputs = []\n",
        "        self.summaries = []\n",
        "        self.input_length = []\n",
        "        self.summary_length = []\n",
        "        \n",
        "    def add_text(self, input_text, summary):\n",
        "        self.inputs.append(input_text)\n",
        "        self.summaries.append(summary)\n",
        "        self.input_length.append(len(input_text))\n",
        "        self.summary_length.append(len(summary))\n",
        "        \n",
        "    def __repr__(self):\n",
        "        return f'Stats data with total length: {len(self.inputs)}'\n",
        "    \n",
        "    def create_df(self):\n",
        "        return pd.DataFrame({'input_text': self.inputs, 'summary': self.summaries, 'input_text_length': self.input_length, 'summary_length': self.summary_length})"
      ],
      "execution_count": 18,
      "outputs": []
    },
    {
      "cell_type": "code",
      "metadata": {
        "id": "66-F0FV3S-HH",
        "outputId": "89b88723-994c-4f31-ca78-e03974df1e03",
        "colab": {
          "base_uri": "https://localhost:8080/",
          "height": 1000,
          "referenced_widgets": [
            "359cb721e5494744b23aa73b7bb65a79",
            "e50f6d84d3554eeb8fb29feaaa9e4bb3",
            "e0a9fb4cbd2b4800b8d374f5581a9d7c",
            "5c5ca86e9f73475cabed6ce4fdd53096",
            "a3a91ee7cc814607b8bd66826182aece",
            "782aa9bbe14441a49b26af256a0d1f8b",
            "2fce7eecd5674b60834fd4f284975b0a",
            "cf3c79404e0b476b8b42bf5d52aac1ab",
            "d37fc5ce0ac94f399ee2a72943ad7393",
            "3269cf35906c43e8880ed7a94be7d7ac",
            "1f5039606ce2496ca5f136ea29993c6f"
          ]
        }
      },
      "source": [
        "from tqdm.notebook import tqdm\n",
        "\n",
        "stats_data = StatsData()\n",
        "required_summaries = 200\n",
        "for i in tqdm(range(required_summaries), total=required_summaries):\n",
        "    text = get_random_text()\n",
        "    summary = nlp_summary(text)[0]['summary_text']\n",
        "    if len(text) > 120 and len(text) < 600:\n",
        "        stats_data.add_text(text, summary)\n",
        "    "
      ],
      "execution_count": 19,
      "outputs": [
        {
          "data": {
            "application/vnd.jupyter.widget-view+json": {
              "model_id": "359cb721e5494744b23aa73b7bb65a79",
              "version_major": 2,
              "version_minor": 0
            },
            "text/plain": [
              "  0%|          | 0/200 [00:00<?, ?it/s]"
            ]
          },
          "metadata": {},
          "output_type": "display_data"
        },
        {
          "output_type": "stream",
          "name": "stderr",
          "text": [
            "Your max_length is set to 64, but you input_length is only 16. You might consider decreasing max_length manually, e.g. summarizer('...', max_length=8)\n",
            "Your max_length is set to 64, but you input_length is only 23. You might consider decreasing max_length manually, e.g. summarizer('...', max_length=11)\n",
            "Your max_length is set to 64, but you input_length is only 62. You might consider decreasing max_length manually, e.g. summarizer('...', max_length=31)\n",
            "Your max_length is set to 64, but you input_length is only 47. You might consider decreasing max_length manually, e.g. summarizer('...', max_length=23)\n",
            "Your max_length is set to 64, but you input_length is only 41. You might consider decreasing max_length manually, e.g. summarizer('...', max_length=20)\n",
            "Your max_length is set to 64, but you input_length is only 32. You might consider decreasing max_length manually, e.g. summarizer('...', max_length=16)\n",
            "Your max_length is set to 64, but you input_length is only 34. You might consider decreasing max_length manually, e.g. summarizer('...', max_length=17)\n",
            "Your max_length is set to 64, but you input_length is only 32. You might consider decreasing max_length manually, e.g. summarizer('...', max_length=16)\n",
            "Your max_length is set to 64, but you input_length is only 25. You might consider decreasing max_length manually, e.g. summarizer('...', max_length=12)\n",
            "Your max_length is set to 64, but you input_length is only 15. You might consider decreasing max_length manually, e.g. summarizer('...', max_length=7)\n",
            "Your max_length is set to 64, but you input_length is only 17. You might consider decreasing max_length manually, e.g. summarizer('...', max_length=8)\n",
            "Your max_length is set to 64, but you input_length is only 44. You might consider decreasing max_length manually, e.g. summarizer('...', max_length=22)\n",
            "Your max_length is set to 64, but you input_length is only 30. You might consider decreasing max_length manually, e.g. summarizer('...', max_length=15)\n",
            "Your max_length is set to 64, but you input_length is only 37. You might consider decreasing max_length manually, e.g. summarizer('...', max_length=18)\n",
            "Your max_length is set to 64, but you input_length is only 40. You might consider decreasing max_length manually, e.g. summarizer('...', max_length=20)\n",
            "Your max_length is set to 64, but you input_length is only 24. You might consider decreasing max_length manually, e.g. summarizer('...', max_length=12)\n",
            "Your max_length is set to 64, but you input_length is only 50. You might consider decreasing max_length manually, e.g. summarizer('...', max_length=25)\n",
            "Your max_length is set to 64, but you input_length is only 13. You might consider decreasing max_length manually, e.g. summarizer('...', max_length=6)\n",
            "Your max_length is set to 64, but you input_length is only 36. You might consider decreasing max_length manually, e.g. summarizer('...', max_length=18)\n",
            "Your max_length is set to 64, but you input_length is only 36. You might consider decreasing max_length manually, e.g. summarizer('...', max_length=18)\n",
            "Your max_length is set to 64, but you input_length is only 30. You might consider decreasing max_length manually, e.g. summarizer('...', max_length=15)\n",
            "Your max_length is set to 64, but you input_length is only 12. You might consider decreasing max_length manually, e.g. summarizer('...', max_length=6)\n",
            "Your max_length is set to 64, but you input_length is only 62. You might consider decreasing max_length manually, e.g. summarizer('...', max_length=31)\n",
            "Your max_length is set to 64, but you input_length is only 33. You might consider decreasing max_length manually, e.g. summarizer('...', max_length=16)\n",
            "Your max_length is set to 64, but you input_length is only 35. You might consider decreasing max_length manually, e.g. summarizer('...', max_length=17)\n",
            "Your max_length is set to 64, but you input_length is only 35. You might consider decreasing max_length manually, e.g. summarizer('...', max_length=17)\n",
            "Your max_length is set to 64, but you input_length is only 12. You might consider decreasing max_length manually, e.g. summarizer('...', max_length=6)\n",
            "Your max_length is set to 64, but you input_length is only 56. You might consider decreasing max_length manually, e.g. summarizer('...', max_length=28)\n",
            "Your max_length is set to 64, but you input_length is only 36. You might consider decreasing max_length manually, e.g. summarizer('...', max_length=18)\n",
            "Your max_length is set to 64, but you input_length is only 34. You might consider decreasing max_length manually, e.g. summarizer('...', max_length=17)\n",
            "Your max_length is set to 64, but you input_length is only 47. You might consider decreasing max_length manually, e.g. summarizer('...', max_length=23)\n",
            "Your max_length is set to 64, but you input_length is only 21. You might consider decreasing max_length manually, e.g. summarizer('...', max_length=10)\n",
            "Your max_length is set to 64, but you input_length is only 36. You might consider decreasing max_length manually, e.g. summarizer('...', max_length=18)\n",
            "Your max_length is set to 64, but you input_length is only 61. You might consider decreasing max_length manually, e.g. summarizer('...', max_length=30)\n",
            "Your max_length is set to 64, but you input_length is only 20. You might consider decreasing max_length manually, e.g. summarizer('...', max_length=10)\n",
            "Your max_length is set to 64, but you input_length is only 33. You might consider decreasing max_length manually, e.g. summarizer('...', max_length=16)\n",
            "Your max_length is set to 64, but you input_length is only 25. You might consider decreasing max_length manually, e.g. summarizer('...', max_length=12)\n",
            "Your max_length is set to 64, but you input_length is only 30. You might consider decreasing max_length manually, e.g. summarizer('...', max_length=15)\n",
            "Your max_length is set to 64, but you input_length is only 50. You might consider decreasing max_length manually, e.g. summarizer('...', max_length=25)\n",
            "Your max_length is set to 64, but you input_length is only 16. You might consider decreasing max_length manually, e.g. summarizer('...', max_length=8)\n",
            "Your max_length is set to 64, but you input_length is only 25. You might consider decreasing max_length manually, e.g. summarizer('...', max_length=12)\n",
            "Your max_length is set to 64, but you input_length is only 25. You might consider decreasing max_length manually, e.g. summarizer('...', max_length=12)\n",
            "Your max_length is set to 64, but you input_length is only 57. You might consider decreasing max_length manually, e.g. summarizer('...', max_length=28)\n",
            "Your max_length is set to 64, but you input_length is only 18. You might consider decreasing max_length manually, e.g. summarizer('...', max_length=9)\n",
            "Your max_length is set to 64, but you input_length is only 28. You might consider decreasing max_length manually, e.g. summarizer('...', max_length=14)\n",
            "Your max_length is set to 64, but you input_length is only 61. You might consider decreasing max_length manually, e.g. summarizer('...', max_length=30)\n",
            "Your max_length is set to 64, but you input_length is only 45. You might consider decreasing max_length manually, e.g. summarizer('...', max_length=22)\n",
            "Your max_length is set to 64, but you input_length is only 40. You might consider decreasing max_length manually, e.g. summarizer('...', max_length=20)\n",
            "Your max_length is set to 64, but you input_length is only 40. You might consider decreasing max_length manually, e.g. summarizer('...', max_length=20)\n",
            "Your max_length is set to 64, but you input_length is only 42. You might consider decreasing max_length manually, e.g. summarizer('...', max_length=21)\n",
            "Your max_length is set to 64, but you input_length is only 12. You might consider decreasing max_length manually, e.g. summarizer('...', max_length=6)\n",
            "Your max_length is set to 64, but you input_length is only 14. You might consider decreasing max_length manually, e.g. summarizer('...', max_length=7)\n",
            "Your max_length is set to 64, but you input_length is only 18. You might consider decreasing max_length manually, e.g. summarizer('...', max_length=9)\n",
            "Your max_length is set to 64, but you input_length is only 34. You might consider decreasing max_length manually, e.g. summarizer('...', max_length=17)\n",
            "Your max_length is set to 64, but you input_length is only 60. You might consider decreasing max_length manually, e.g. summarizer('...', max_length=30)\n",
            "Your max_length is set to 64, but you input_length is only 63. You might consider decreasing max_length manually, e.g. summarizer('...', max_length=31)\n",
            "Your max_length is set to 64, but you input_length is only 41. You might consider decreasing max_length manually, e.g. summarizer('...', max_length=20)\n",
            "Your max_length is set to 64, but you input_length is only 51. You might consider decreasing max_length manually, e.g. summarizer('...', max_length=25)\n",
            "Your max_length is set to 64, but you input_length is only 30. You might consider decreasing max_length manually, e.g. summarizer('...', max_length=15)\n",
            "Your max_length is set to 64, but you input_length is only 42. You might consider decreasing max_length manually, e.g. summarizer('...', max_length=21)\n",
            "Your max_length is set to 64, but you input_length is only 57. You might consider decreasing max_length manually, e.g. summarizer('...', max_length=28)\n",
            "Your max_length is set to 64, but you input_length is only 22. You might consider decreasing max_length manually, e.g. summarizer('...', max_length=11)\n",
            "Your max_length is set to 64, but you input_length is only 36. You might consider decreasing max_length manually, e.g. summarizer('...', max_length=18)\n",
            "Your max_length is set to 64, but you input_length is only 35. You might consider decreasing max_length manually, e.g. summarizer('...', max_length=17)\n",
            "Your max_length is set to 64, but you input_length is only 43. You might consider decreasing max_length manually, e.g. summarizer('...', max_length=21)\n",
            "Your max_length is set to 64, but you input_length is only 30. You might consider decreasing max_length manually, e.g. summarizer('...', max_length=15)\n",
            "Your max_length is set to 64, but you input_length is only 18. You might consider decreasing max_length manually, e.g. summarizer('...', max_length=9)\n",
            "Your max_length is set to 64, but you input_length is only 12. You might consider decreasing max_length manually, e.g. summarizer('...', max_length=6)\n",
            "Your max_length is set to 64, but you input_length is only 47. You might consider decreasing max_length manually, e.g. summarizer('...', max_length=23)\n",
            "Your max_length is set to 64, but you input_length is only 61. You might consider decreasing max_length manually, e.g. summarizer('...', max_length=30)\n",
            "Your max_length is set to 64, but you input_length is only 23. You might consider decreasing max_length manually, e.g. summarizer('...', max_length=11)\n",
            "Your max_length is set to 64, but you input_length is only 14. You might consider decreasing max_length manually, e.g. summarizer('...', max_length=7)\n",
            "Your max_length is set to 64, but you input_length is only 33. You might consider decreasing max_length manually, e.g. summarizer('...', max_length=16)\n",
            "Your max_length is set to 64, but you input_length is only 60. You might consider decreasing max_length manually, e.g. summarizer('...', max_length=30)\n",
            "Your max_length is set to 64, but you input_length is only 33. You might consider decreasing max_length manually, e.g. summarizer('...', max_length=16)\n",
            "Your max_length is set to 64, but you input_length is only 25. You might consider decreasing max_length manually, e.g. summarizer('...', max_length=12)\n",
            "Your max_length is set to 64, but you input_length is only 53. You might consider decreasing max_length manually, e.g. summarizer('...', max_length=26)\n",
            "Your max_length is set to 64, but you input_length is only 15. You might consider decreasing max_length manually, e.g. summarizer('...', max_length=7)\n",
            "Your max_length is set to 64, but you input_length is only 58. You might consider decreasing max_length manually, e.g. summarizer('...', max_length=29)\n",
            "Your max_length is set to 64, but you input_length is only 11. You might consider decreasing max_length manually, e.g. summarizer('...', max_length=5)\n",
            "Your max_length is set to 64, but you input_length is only 55. You might consider decreasing max_length manually, e.g. summarizer('...', max_length=27)\n",
            "Your max_length is set to 64, but you input_length is only 48. You might consider decreasing max_length manually, e.g. summarizer('...', max_length=24)\n",
            "Your max_length is set to 64, but you input_length is only 52. You might consider decreasing max_length manually, e.g. summarizer('...', max_length=26)\n",
            "Your max_length is set to 64, but you input_length is only 16. You might consider decreasing max_length manually, e.g. summarizer('...', max_length=8)\n",
            "Your max_length is set to 64, but you input_length is only 36. You might consider decreasing max_length manually, e.g. summarizer('...', max_length=18)\n",
            "Your max_length is set to 64, but you input_length is only 61. You might consider decreasing max_length manually, e.g. summarizer('...', max_length=30)\n",
            "Your max_length is set to 64, but you input_length is only 44. You might consider decreasing max_length manually, e.g. summarizer('...', max_length=22)\n",
            "Your max_length is set to 64, but you input_length is only 19. You might consider decreasing max_length manually, e.g. summarizer('...', max_length=9)\n",
            "Your max_length is set to 64, but you input_length is only 33. You might consider decreasing max_length manually, e.g. summarizer('...', max_length=16)\n",
            "Your max_length is set to 64, but you input_length is only 23. You might consider decreasing max_length manually, e.g. summarizer('...', max_length=11)\n",
            "Your max_length is set to 64, but you input_length is only 38. You might consider decreasing max_length manually, e.g. summarizer('...', max_length=19)\n",
            "Your max_length is set to 64, but you input_length is only 52. You might consider decreasing max_length manually, e.g. summarizer('...', max_length=26)\n",
            "Your max_length is set to 64, but you input_length is only 21. You might consider decreasing max_length manually, e.g. summarizer('...', max_length=10)\n",
            "Your max_length is set to 64, but you input_length is only 42. You might consider decreasing max_length manually, e.g. summarizer('...', max_length=21)\n",
            "Your max_length is set to 64, but you input_length is only 43. You might consider decreasing max_length manually, e.g. summarizer('...', max_length=21)\n",
            "Your max_length is set to 64, but you input_length is only 43. You might consider decreasing max_length manually, e.g. summarizer('...', max_length=21)\n",
            "Your max_length is set to 64, but you input_length is only 45. You might consider decreasing max_length manually, e.g. summarizer('...', max_length=22)\n",
            "Your max_length is set to 64, but you input_length is only 24. You might consider decreasing max_length manually, e.g. summarizer('...', max_length=12)\n",
            "Your max_length is set to 64, but you input_length is only 12. You might consider decreasing max_length manually, e.g. summarizer('...', max_length=6)\n",
            "Your max_length is set to 64, but you input_length is only 26. You might consider decreasing max_length manually, e.g. summarizer('...', max_length=13)\n",
            "Your max_length is set to 64, but you input_length is only 54. You might consider decreasing max_length manually, e.g. summarizer('...', max_length=27)\n",
            "Your max_length is set to 64, but you input_length is only 53. You might consider decreasing max_length manually, e.g. summarizer('...', max_length=26)\n",
            "Your max_length is set to 64, but you input_length is only 15. You might consider decreasing max_length manually, e.g. summarizer('...', max_length=7)\n",
            "Your max_length is set to 64, but you input_length is only 40. You might consider decreasing max_length manually, e.g. summarizer('...', max_length=20)\n",
            "Your max_length is set to 64, but you input_length is only 40. You might consider decreasing max_length manually, e.g. summarizer('...', max_length=20)\n",
            "Your max_length is set to 64, but you input_length is only 60. You might consider decreasing max_length manually, e.g. summarizer('...', max_length=30)\n",
            "Your max_length is set to 64, but you input_length is only 59. You might consider decreasing max_length manually, e.g. summarizer('...', max_length=29)\n",
            "Your max_length is set to 64, but you input_length is only 36. You might consider decreasing max_length manually, e.g. summarizer('...', max_length=18)\n",
            "Your max_length is set to 64, but you input_length is only 26. You might consider decreasing max_length manually, e.g. summarizer('...', max_length=13)\n",
            "Your max_length is set to 64, but you input_length is only 50. You might consider decreasing max_length manually, e.g. summarizer('...', max_length=25)\n",
            "Your max_length is set to 64, but you input_length is only 39. You might consider decreasing max_length manually, e.g. summarizer('...', max_length=19)\n",
            "Your max_length is set to 64, but you input_length is only 18. You might consider decreasing max_length manually, e.g. summarizer('...', max_length=9)\n",
            "Your max_length is set to 64, but you input_length is only 39. You might consider decreasing max_length manually, e.g. summarizer('...', max_length=19)\n",
            "Your max_length is set to 64, but you input_length is only 29. You might consider decreasing max_length manually, e.g. summarizer('...', max_length=14)\n",
            "Your max_length is set to 64, but you input_length is only 29. You might consider decreasing max_length manually, e.g. summarizer('...', max_length=14)\n",
            "Your max_length is set to 64, but you input_length is only 56. You might consider decreasing max_length manually, e.g. summarizer('...', max_length=28)\n",
            "Your max_length is set to 64, but you input_length is only 52. You might consider decreasing max_length manually, e.g. summarizer('...', max_length=26)\n",
            "Your max_length is set to 64, but you input_length is only 23. You might consider decreasing max_length manually, e.g. summarizer('...', max_length=11)\n",
            "Your max_length is set to 64, but you input_length is only 33. You might consider decreasing max_length manually, e.g. summarizer('...', max_length=16)\n",
            "Your max_length is set to 64, but you input_length is only 61. You might consider decreasing max_length manually, e.g. summarizer('...', max_length=30)\n",
            "Your max_length is set to 64, but you input_length is only 55. You might consider decreasing max_length manually, e.g. summarizer('...', max_length=27)\n",
            "Your max_length is set to 64, but you input_length is only 31. You might consider decreasing max_length manually, e.g. summarizer('...', max_length=15)\n",
            "Your max_length is set to 64, but you input_length is only 60. You might consider decreasing max_length manually, e.g. summarizer('...', max_length=30)\n",
            "Your max_length is set to 64, but you input_length is only 21. You might consider decreasing max_length manually, e.g. summarizer('...', max_length=10)\n"
          ]
        }
      ]
    },
    {
      "cell_type": "code",
      "metadata": {
        "id": "K7QnNhOfVNl4"
      },
      "source": [
        "summary_data = stats_data.create_df()"
      ],
      "execution_count": 20,
      "outputs": []
    },
    {
      "cell_type": "code",
      "metadata": {
        "id": "1o66GsKxeACU"
      },
      "source": [
        "summary_data['summary_ratio'] = summary_data['summary_length'] / summary_data['input_text_length']"
      ],
      "execution_count": 21,
      "outputs": []
    },
    {
      "cell_type": "code",
      "metadata": {
        "id": "8_lTCcfeeFFx",
        "outputId": "f64f2b85-0d29-4023-f80e-fcde3dbfc96c",
        "colab": {
          "base_uri": "https://localhost:8080/",
          "height": 424
        }
      },
      "source": [
        "summary_data"
      ],
      "execution_count": 22,
      "outputs": [
        {
          "output_type": "execute_result",
          "data": {
            "text/plain": [
              "                                            input_text  \\\n",
              "0    Fountainhall railway station served the villag...   \n",
              "1    Transfusion is the second EP by the Australian...   \n",
              "2    Ireland competed at the 1984 Summer Paralympic...   \n",
              "3    Ballymore Eustace is a small town situated in ...   \n",
              "4    Sally (Salomon) Ruben Henriques was a Jewish-D...   \n",
              "..                                                 ...   \n",
              "142  My Gear and Your Gown is a 2020 Thai televisio...   \n",
              "143  Peter Stevenson Rummell is an American real es...   \n",
              "144  Crime Investigation Australia is an Australian...   \n",
              "145  The Sudanese Shadow Government is a political ...   \n",
              "146  Schinia gaurae, the clouded crimson, is a moth...   \n",
              "\n",
              "                                               summary  input_text_length  \\\n",
              "0    A former Borders railway station has been rest...                122   \n",
              "1    Transfusion is the second EP by the Australian...                280   \n",
              "2    The 30th anniversary of Ireland's participatio...                239   \n",
              "3    Ballymore Eustace is a small town situated in ...                184   \n",
              "4    An exhibition of the work of one of Denmark's ...                135   \n",
              "..                                                 ...                ...   \n",
              "142  My Gear and Your Gown is a 2020 Thai televisio...                199   \n",
              "143  Peter Rummell is the founder of One Spark, a c...                440   \n",
              "144  Crime Investigation Australia is an Australian...                282   \n",
              "145  The Sudanese Shadow Government is a political ...                176   \n",
              "146  One of the most common moth species in North A...                280   \n",
              "\n",
              "     summary_length  summary_ratio  \n",
              "0                71       0.581967  \n",
              "1                71       0.253571  \n",
              "2               122       0.510460  \n",
              "3               135       0.733696  \n",
              "4                97       0.718519  \n",
              "..              ...            ...  \n",
              "142             199       1.000000  \n",
              "143              92       0.209091  \n",
              "144             143       0.507092  \n",
              "145             132       0.750000  \n",
              "146              92       0.328571  \n",
              "\n",
              "[147 rows x 5 columns]"
            ],
            "text/html": [
              "\n",
              "  <div id=\"df-e31f6323-ba1d-4bbc-a39d-5f5313724c53\">\n",
              "    <div class=\"colab-df-container\">\n",
              "      <div>\n",
              "<style scoped>\n",
              "    .dataframe tbody tr th:only-of-type {\n",
              "        vertical-align: middle;\n",
              "    }\n",
              "\n",
              "    .dataframe tbody tr th {\n",
              "        vertical-align: top;\n",
              "    }\n",
              "\n",
              "    .dataframe thead th {\n",
              "        text-align: right;\n",
              "    }\n",
              "</style>\n",
              "<table border=\"1\" class=\"dataframe\">\n",
              "  <thead>\n",
              "    <tr style=\"text-align: right;\">\n",
              "      <th></th>\n",
              "      <th>input_text</th>\n",
              "      <th>summary</th>\n",
              "      <th>input_text_length</th>\n",
              "      <th>summary_length</th>\n",
              "      <th>summary_ratio</th>\n",
              "    </tr>\n",
              "  </thead>\n",
              "  <tbody>\n",
              "    <tr>\n",
              "      <th>0</th>\n",
              "      <td>Fountainhall railway station served the villag...</td>\n",
              "      <td>A former Borders railway station has been rest...</td>\n",
              "      <td>122</td>\n",
              "      <td>71</td>\n",
              "      <td>0.581967</td>\n",
              "    </tr>\n",
              "    <tr>\n",
              "      <th>1</th>\n",
              "      <td>Transfusion is the second EP by the Australian...</td>\n",
              "      <td>Transfusion is the second EP by the Australian...</td>\n",
              "      <td>280</td>\n",
              "      <td>71</td>\n",
              "      <td>0.253571</td>\n",
              "    </tr>\n",
              "    <tr>\n",
              "      <th>2</th>\n",
              "      <td>Ireland competed at the 1984 Summer Paralympic...</td>\n",
              "      <td>The 30th anniversary of Ireland's participatio...</td>\n",
              "      <td>239</td>\n",
              "      <td>122</td>\n",
              "      <td>0.510460</td>\n",
              "    </tr>\n",
              "    <tr>\n",
              "      <th>3</th>\n",
              "      <td>Ballymore Eustace is a small town situated in ...</td>\n",
              "      <td>Ballymore Eustace is a small town situated in ...</td>\n",
              "      <td>184</td>\n",
              "      <td>135</td>\n",
              "      <td>0.733696</td>\n",
              "    </tr>\n",
              "    <tr>\n",
              "      <th>4</th>\n",
              "      <td>Sally (Salomon) Ruben Henriques was a Jewish-D...</td>\n",
              "      <td>An exhibition of the work of one of Denmark's ...</td>\n",
              "      <td>135</td>\n",
              "      <td>97</td>\n",
              "      <td>0.718519</td>\n",
              "    </tr>\n",
              "    <tr>\n",
              "      <th>...</th>\n",
              "      <td>...</td>\n",
              "      <td>...</td>\n",
              "      <td>...</td>\n",
              "      <td>...</td>\n",
              "      <td>...</td>\n",
              "    </tr>\n",
              "    <tr>\n",
              "      <th>142</th>\n",
              "      <td>My Gear and Your Gown is a 2020 Thai televisio...</td>\n",
              "      <td>My Gear and Your Gown is a 2020 Thai televisio...</td>\n",
              "      <td>199</td>\n",
              "      <td>199</td>\n",
              "      <td>1.000000</td>\n",
              "    </tr>\n",
              "    <tr>\n",
              "      <th>143</th>\n",
              "      <td>Peter Stevenson Rummell is an American real es...</td>\n",
              "      <td>Peter Rummell is the founder of One Spark, a c...</td>\n",
              "      <td>440</td>\n",
              "      <td>92</td>\n",
              "      <td>0.209091</td>\n",
              "    </tr>\n",
              "    <tr>\n",
              "      <th>144</th>\n",
              "      <td>Crime Investigation Australia is an Australian...</td>\n",
              "      <td>Crime Investigation Australia is an Australian...</td>\n",
              "      <td>282</td>\n",
              "      <td>143</td>\n",
              "      <td>0.507092</td>\n",
              "    </tr>\n",
              "    <tr>\n",
              "      <th>145</th>\n",
              "      <td>The Sudanese Shadow Government is a political ...</td>\n",
              "      <td>The Sudanese Shadow Government is a political ...</td>\n",
              "      <td>176</td>\n",
              "      <td>132</td>\n",
              "      <td>0.750000</td>\n",
              "    </tr>\n",
              "    <tr>\n",
              "      <th>146</th>\n",
              "      <td>Schinia gaurae, the clouded crimson, is a moth...</td>\n",
              "      <td>One of the most common moth species in North A...</td>\n",
              "      <td>280</td>\n",
              "      <td>92</td>\n",
              "      <td>0.328571</td>\n",
              "    </tr>\n",
              "  </tbody>\n",
              "</table>\n",
              "<p>147 rows × 5 columns</p>\n",
              "</div>\n",
              "      <button class=\"colab-df-convert\" onclick=\"convertToInteractive('df-e31f6323-ba1d-4bbc-a39d-5f5313724c53')\"\n",
              "              title=\"Convert this dataframe to an interactive table.\"\n",
              "              style=\"display:none;\">\n",
              "        \n",
              "  <svg xmlns=\"http://www.w3.org/2000/svg\" height=\"24px\"viewBox=\"0 0 24 24\"\n",
              "       width=\"24px\">\n",
              "    <path d=\"M0 0h24v24H0V0z\" fill=\"none\"/>\n",
              "    <path d=\"M18.56 5.44l.94 2.06.94-2.06 2.06-.94-2.06-.94-.94-2.06-.94 2.06-2.06.94zm-11 1L8.5 8.5l.94-2.06 2.06-.94-2.06-.94L8.5 2.5l-.94 2.06-2.06.94zm10 10l.94 2.06.94-2.06 2.06-.94-2.06-.94-.94-2.06-.94 2.06-2.06.94z\"/><path d=\"M17.41 7.96l-1.37-1.37c-.4-.4-.92-.59-1.43-.59-.52 0-1.04.2-1.43.59L10.3 9.45l-7.72 7.72c-.78.78-.78 2.05 0 2.83L4 21.41c.39.39.9.59 1.41.59.51 0 1.02-.2 1.41-.59l7.78-7.78 2.81-2.81c.8-.78.8-2.07 0-2.86zM5.41 20L4 18.59l7.72-7.72 1.47 1.35L5.41 20z\"/>\n",
              "  </svg>\n",
              "      </button>\n",
              "      \n",
              "  <style>\n",
              "    .colab-df-container {\n",
              "      display:flex;\n",
              "      flex-wrap:wrap;\n",
              "      gap: 12px;\n",
              "    }\n",
              "\n",
              "    .colab-df-convert {\n",
              "      background-color: #E8F0FE;\n",
              "      border: none;\n",
              "      border-radius: 50%;\n",
              "      cursor: pointer;\n",
              "      display: none;\n",
              "      fill: #1967D2;\n",
              "      height: 32px;\n",
              "      padding: 0 0 0 0;\n",
              "      width: 32px;\n",
              "    }\n",
              "\n",
              "    .colab-df-convert:hover {\n",
              "      background-color: #E2EBFA;\n",
              "      box-shadow: 0px 1px 2px rgba(60, 64, 67, 0.3), 0px 1px 3px 1px rgba(60, 64, 67, 0.15);\n",
              "      fill: #174EA6;\n",
              "    }\n",
              "\n",
              "    [theme=dark] .colab-df-convert {\n",
              "      background-color: #3B4455;\n",
              "      fill: #D2E3FC;\n",
              "    }\n",
              "\n",
              "    [theme=dark] .colab-df-convert:hover {\n",
              "      background-color: #434B5C;\n",
              "      box-shadow: 0px 1px 3px 1px rgba(0, 0, 0, 0.15);\n",
              "      filter: drop-shadow(0px 1px 2px rgba(0, 0, 0, 0.3));\n",
              "      fill: #FFFFFF;\n",
              "    }\n",
              "  </style>\n",
              "\n",
              "      <script>\n",
              "        const buttonEl =\n",
              "          document.querySelector('#df-e31f6323-ba1d-4bbc-a39d-5f5313724c53 button.colab-df-convert');\n",
              "        buttonEl.style.display =\n",
              "          google.colab.kernel.accessAllowed ? 'block' : 'none';\n",
              "\n",
              "        async function convertToInteractive(key) {\n",
              "          const element = document.querySelector('#df-e31f6323-ba1d-4bbc-a39d-5f5313724c53');\n",
              "          const dataTable =\n",
              "            await google.colab.kernel.invokeFunction('convertToInteractive',\n",
              "                                                     [key], {});\n",
              "          if (!dataTable) return;\n",
              "\n",
              "          const docLinkHtml = 'Like what you see? Visit the ' +\n",
              "            '<a target=\"_blank\" href=https://colab.research.google.com/notebooks/data_table.ipynb>data table notebook</a>'\n",
              "            + ' to learn more about interactive tables.';\n",
              "          element.innerHTML = '';\n",
              "          dataTable['output_type'] = 'display_data';\n",
              "          await google.colab.output.renderOutput(dataTable, element);\n",
              "          const docLink = document.createElement('div');\n",
              "          docLink.innerHTML = docLinkHtml;\n",
              "          element.appendChild(docLink);\n",
              "        }\n",
              "      </script>\n",
              "    </div>\n",
              "  </div>\n",
              "  "
            ]
          },
          "metadata": {},
          "execution_count": 22
        }
      ]
    },
    {
      "cell_type": "code",
      "metadata": {
        "id": "bIs3AMtXeHoj",
        "outputId": "64b736ef-f2e6-4418-8ddd-46041c564657",
        "colab": {
          "base_uri": "https://localhost:8080/",
          "height": 403
        }
      },
      "source": [
        "import seaborn as sb\n",
        "\n",
        "sb.distplot(summary_data['input_text_length'])\n",
        "sb.distplot(summary_data['summary_length']).set_title('Input Distribution / Summary Length Distribution')"
      ],
      "execution_count": 23,
      "outputs": [
        {
          "output_type": "stream",
          "name": "stderr",
          "text": [
            "/usr/local/lib/python3.7/dist-packages/seaborn/distributions.py:2619: FutureWarning: `distplot` is a deprecated function and will be removed in a future version. Please adapt your code to use either `displot` (a figure-level function with similar flexibility) or `histplot` (an axes-level function for histograms).\n",
            "  warnings.warn(msg, FutureWarning)\n",
            "/usr/local/lib/python3.7/dist-packages/seaborn/distributions.py:2619: FutureWarning: `distplot` is a deprecated function and will be removed in a future version. Please adapt your code to use either `displot` (a figure-level function with similar flexibility) or `histplot` (an axes-level function for histograms).\n",
            "  warnings.warn(msg, FutureWarning)\n"
          ]
        },
        {
          "output_type": "execute_result",
          "data": {
            "text/plain": [
              "Text(0.5, 1.0, 'Input Distribution / Summary Length Distribution')"
            ]
          },
          "metadata": {},
          "execution_count": 23
        },
        {
          "output_type": "display_data",
          "data": {
            "text/plain": [
              "<Figure size 432x288 with 1 Axes>"
            ],
            "image/png": "[encoded data removed]"
          },
          "metadata": {
            "needs_background": "light"
          }
        }
      ]
    },
    {
      "cell_type": "code",
      "metadata": {
        "id": "qll1l4LUeKpc",
        "outputId": "d3d14009-469b-463e-a1e4-dc1858dc1cdd",
        "colab": {
          "base_uri": "https://localhost:8080/",
          "height": 368
        }
      },
      "source": [
        "sb.distplot(summary_data['summary_ratio']).set_title('Summary Ratio Distribution')"
      ],
      "execution_count": 24,
      "outputs": [
        {
          "output_type": "stream",
          "name": "stderr",
          "text": [
            "/usr/local/lib/python3.7/dist-packages/seaborn/distributions.py:2619: FutureWarning: `distplot` is a deprecated function and will be removed in a future version. Please adapt your code to use either `displot` (a figure-level function with similar flexibility) or `histplot` (an axes-level function for histograms).\n",
            "  warnings.warn(msg, FutureWarning)\n"
          ]
        },
        {
          "output_type": "execute_result",
          "data": {
            "text/plain": [
              "Text(0.5, 1.0, 'Summary Ratio Distribution')"
            ]
          },
          "metadata": {},
          "execution_count": 24
        },
        {
          "output_type": "display_data",
          "data": {
            "text/plain": [
              "<Figure size 432x288 with 1 Axes>"
            ],
            "image/png": "[encoded data removed]"
          },
          "metadata": {
            "needs_background": "light"
          }
        }
      ]
    },
    {
      "cell_type": "code",
      "metadata": {
        "id": "2CLdt7pUuk8h",
        "outputId": "10c66e59-40a7-45ed-82a1-b436a8def891",
        "colab": {
          "base_uri": "https://localhost:8080/",
          "height": 42
        }
      },
      "source": [
        "f\"Mean summary ratio: {summary_data['summary_ratio'].mean()}\""
      ],
      "execution_count": 25,
      "outputs": [
        {
          "output_type": "execute_result",
          "data": {
            "text/plain": [
              "'Mean summary ratio: 0.3861570067314718'"
            ],
            "application/vnd.google.colaboratory.intrinsic+json": {
              "type": "string"
            }
          },
          "metadata": {},
          "execution_count": 25
        }
      ]
    },
    {
      "cell_type": "markdown",
      "metadata": {
        "id": "T7TlEBs4eNF6"
      },
      "source": [
        "### Spellchecking"
      ]
    },
    {
      "cell_type": "code",
      "metadata": {
        "id": "9-mdIgn4eQUV",
        "outputId": "4d5ed428-75d3-42ba-b659-fd58a0dd0f7c",
        "colab": {
          "base_uri": "https://localhost:8080/"
        }
      },
      "source": [
        "import nltk\n",
        "import re\n",
        "from nltk.corpus import stopwords\n",
        "import itertools\n",
        "import collections\n",
        "\n",
        "nltk.download('stopwords')\n",
        "stop_words = set(stopwords.words('english'))"
      ],
      "execution_count": 26,
      "outputs": [
        {
          "output_type": "stream",
          "name": "stdout",
          "text": [
            "[nltk_data] Downloading package stopwords to /root/nltk_data...\n",
            "[nltk_data]   Unzipping corpora/stopwords.zip.\n"
          ]
        }
      ]
    },
    {
      "cell_type": "code",
      "metadata": {
        "id": "UCiUPQ5veUUq"
      },
      "source": [
        "def remove_punctuation(txt):\n",
        "    \"\"\"Replace URLs and other punctuation found in a text string with nothing \n",
        "    (i.e. it will remove the URL from the string).\n",
        "\n",
        "    Parameters\n",
        "    ----------\n",
        "    txt : string\n",
        "        A text string that you want to parse and remove urls.\n",
        "\n",
        "    Returns\n",
        "    -------\n",
        "    The same txt string with URLs and punctuation removed.\n",
        "    \"\"\"\n",
        "\n",
        "    return \" \".join(re.sub(\"([^0-9A-Za-z \\t])|(\\w+:\\/\\/\\S+)\", \"\", txt).split())"
      ],
      "execution_count": 27,
      "outputs": []
    },
    {
      "cell_type": "code",
      "metadata": {
        "id": "VD_v8uCbeWq-"
      },
      "source": [
        "def clean_text(txt):\n",
        "    \"\"\"Removes punctuation, changes to lowercase, removes\n",
        "        stopwords and calculates word frequencies.\n",
        "\n",
        "    Parameters\n",
        "    ----------\n",
        "    txt : string\n",
        "        A text string that you want to clean.\n",
        "\n",
        "    Returns\n",
        "    -------\n",
        "    Words and frequencies\n",
        "    \"\"\"\n",
        "    \n",
        "    tmp = [remove_punctuation(t) for t in txt]\n",
        "    tmp = [t.lower().split() for t in tmp]\n",
        "    \n",
        "    tmp = [[w for w in t if not w in stop_words]\n",
        "              for t in tmp]\n",
        "    \n",
        "    tmp = list(itertools.chain(*tmp))\n",
        "    tmp = collections.Counter(tmp)\n",
        "        \n",
        "    return list(tmp.keys())"
      ],
      "execution_count": 28,
      "outputs": []
    },
    {
      "cell_type": "code",
      "metadata": {
        "id": "Alq900oIeYxd"
      },
      "source": [
        "summary_spell_check_words = clean_text(set(list(summary_data['summary'])))\n",
        "input_text_check_words = clean_text(set(list(summary_data['input_text'])))"
      ],
      "execution_count": 29,
      "outputs": []
    },
    {
      "cell_type": "code",
      "metadata": {
        "id": "3jmj2JCVlbSC"
      },
      "source": [
        "from spellchecker import SpellChecker"
      ],
      "execution_count": 30,
      "outputs": []
    },
    {
      "cell_type": "code",
      "metadata": {
        "id": "hJgXf_Koldbn",
        "outputId": "4db710fd-1e9e-402e-f0a9-2553847d3850",
        "colab": {
          "base_uri": "https://localhost:8080/"
        }
      },
      "source": [
        "spell = SpellChecker()\n",
        "\n",
        "# find those words that may be misspelled\n",
        "summary_misspelled = spell.unknown(summary_spell_check_words)\n",
        "original_misspelled = spell.unknown(input_text_check_words)\n",
        "len(summary_misspelled), len(original_misspelled)"
      ],
      "execution_count": 31,
      "outputs": [
        {
          "output_type": "execute_result",
          "data": {
            "text/plain": [
              "(197, 548)"
            ]
          },
          "metadata": {},
          "execution_count": 31
        }
      ]
    },
    {
      "cell_type": "code",
      "metadata": {
        "id": "TvT5h6A7vKHx",
        "outputId": "fb58b95b-5314-4067-bbb4-510e2281e80e",
        "colab": {
          "base_uri": "https://localhost:8080/",
          "height": 42
        }
      },
      "source": [
        "f\"Summary mispelled ratio: {len(summary_misspelled) / len(summary_spell_check_words)}\""
      ],
      "execution_count": 32,
      "outputs": [
        {
          "output_type": "execute_result",
          "data": {
            "text/plain": [
              "'Summary mispelled ratio: 0.1942800788954635'"
            ],
            "application/vnd.google.colaboratory.intrinsic+json": {
              "type": "string"
            }
          },
          "metadata": {},
          "execution_count": 32
        }
      ]
    },
    {
      "cell_type": "code",
      "metadata": {
        "id": "K2cQ0T3IzwZF",
        "outputId": "ac4d0d7a-e9e5-4b07-99bc-d1d2c88f961a",
        "colab": {
          "base_uri": "https://localhost:8080/",
          "height": 42
        }
      },
      "source": [
        "f\"Original misspelled ratio: {len(original_misspelled) / len(input_text_check_words)}\""
      ],
      "execution_count": 33,
      "outputs": [
        {
          "output_type": "execute_result",
          "data": {
            "text/plain": [
              "'Original misspelled ratio: 0.21044546850998463'"
            ],
            "application/vnd.google.colaboratory.intrinsic+json": {
              "type": "string"
            }
          },
          "metadata": {},
          "execution_count": 33
        }
      ]
    },
    {
      "cell_type": "code",
      "metadata": {
        "id": "Z7B5FRb7lfaH",
        "outputId": "d2892d32-d87e-445a-d733-c4b077acfba7",
        "colab": {
          "base_uri": "https://localhost:8080/",
          "height": 352
        }
      },
      "source": [
        "misspelling_df = pd.DataFrame({'misspellings' : [\"summary_misspelled\" for _ in range(len(summary_misspelled))] + [\"input_misspelled\" for _ in range(len(original_misspelled))]})\n",
        "\n",
        "sb.countplot(misspelling_df['misspellings'])"
      ],
      "execution_count": 34,
      "outputs": [
        {
          "output_type": "stream",
          "name": "stderr",
          "text": [
            "/usr/local/lib/python3.7/dist-packages/seaborn/_decorators.py:43: FutureWarning: Pass the following variable as a keyword arg: x. From version 0.12, the only valid positional argument will be `data`, and passing other arguments without an explicit keyword will result in an error or misinterpretation.\n",
            "  FutureWarning\n"
          ]
        },
        {
          "output_type": "execute_result",
          "data": {
            "text/plain": [
              "<matplotlib.axes._subplots.AxesSubplot at 0x7f9320d77750>"
            ]
          },
          "metadata": {},
          "execution_count": 34
        },
        {
          "output_type": "display_data",
          "data": {
            "text/plain": [
              "<Figure size 432x288 with 1 Axes>"
            ],
            "image/png": "[encoded data removed]"
          },
          "metadata": {
            "needs_background": "light"
          }
        }
      ]
    },
    {
      "cell_type": "markdown",
      "metadata": {
        "id": "HFWnMFgPliR5"
      },
      "source": [
        "### Generate HTML for Visual Proofreading"
      ]
    },
    {
      "cell_type": "code",
      "metadata": {
        "id": "HxVlgPVkll96"
      },
      "source": [
        "table_data = \"\"\n",
        "for i, d in summary_data.iterrows():\n",
        "    table_data += f\"<tr><td>{d['input_text']}</td><td>{d['summary']}</td></tr>\""
      ],
      "execution_count": 35,
      "outputs": []
    },
    {
      "cell_type": "code",
      "metadata": {
        "id": "Vfn7lE2Mlp4x"
      },
      "source": [
        "simple_visual_check = f\"\"\"\n",
        "<html>\n",
        "<body>\n",
        "<table>\n",
        "    <tr><th>Original</th><th>Input Text</th></tr>\n",
        "    {table_data}\n",
        "</table>\n",
        "</body>\n",
        "</html>\n",
        "\"\"\""
      ],
      "execution_count": 36,
      "outputs": []
    },
    {
      "cell_type": "code",
      "metadata": {
        "id": "SWoipVislsJs"
      },
      "source": [
        "with open('visual_check.html', 'w') as f:\n",
        "    f.write(simple_visual_check)"
      ],
      "execution_count": 37,
      "outputs": []
    },
    {
      "cell_type": "code",
      "metadata": {
        "id": "OP392UbAluXT"
      },
      "source": [
        ""
      ],
      "execution_count": null,
      "outputs": []
    }
  ]
}